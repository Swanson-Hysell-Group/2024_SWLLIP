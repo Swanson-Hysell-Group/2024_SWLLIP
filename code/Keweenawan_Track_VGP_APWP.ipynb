{
 "cells": [
  {
   "attachments": {},
   "cell_type": "markdown",
   "metadata": {},
   "source": [
    "# Notebook for compiling VGP level data of Keweenawan Track\n",
    "\n",
    "\n",
    "- this notebook is modified from the Keweenawan Track compilation work of Swanson-Hysell et al., 2019 (http://dx.doi.org/10.1130/B31944.1)"
   ]
  },
  {
   "cell_type": "markdown",
   "metadata": {},
   "source": [
    "# Import libraries for data analysis\n",
    "\n",
    "This code blocks imports necessary libraries and defines functions that will be used in the data analysis below. The code below  the pmag.py and ipmag.py modules of the the PmagPy software package (https://github.com/PmagPy/PmagPy). The other modules are currently included with standard scientific python distributions."
   ]
  },
  {
   "cell_type": "code",
   "execution_count": 1,
   "metadata": {},
   "outputs": [],
   "source": [
    "import pmagpy.pmag as pmag\n",
    "import pmagpy.ipmag as ipmag\n",
    "\n",
    "import matplotlib.pyplot as plt\n",
    "import pandas as pd\n",
    "pd.set_option('display.max_columns', None)\n",
    "pd.set_option('display.max_colwidth', -1)\n",
    "from IPython.core.display import HTML\n",
    "import numpy as np\n",
    "import scipy as sp\n",
    "from scipy import special\n",
    "import warnings\n",
    "warnings.filterwarnings('ignore')"
   ]
  },
  {
   "cell_type": "markdown",
   "metadata": {},
   "source": [
    "This notebook runs with figures inline (instead of opening up in another window) that are in svg format by executing these commands:"
   ]
  },
  {
   "cell_type": "code",
   "execution_count": 2,
   "metadata": {},
   "outputs": [],
   "source": [
    "%matplotlib inline\n",
    "%config InlineBackend.figure_formats = 'retina'"
   ]
  },
  {
   "cell_type": "markdown",
   "metadata": {},
   "source": [
    "Let's create an empty dataframe that will be populated with pole means called 'pole_means'.\n",
    "\n",
    "<b>PoleName | SLat | SLon | PLat | Plon | A95 | PolarityZone | PmagRef | AgeNominal | AgeLower | AgeUpper | AgeInfo | Q  </b>\n",
    "\n",
    "<b>Pole_name</b> = Name of pole which corresponds to volcanic group <br>\n",
    "<b>SLat</b> = Sample area decimal latitude (e.g. -56.2)<br>\n",
    "<b>SLon</b> = Sample area decimal longitude (e.g. 134.8)<br>\n",
    "<b>PLat</b> = Palaeomagnetic pole decimal latitude (e.g. -56.2)<br>\n",
    "<b>PLon</b> = Palaeomagnetic pole decimal longitude (e.g. 134.8)<br>\n",
    "<b>A95</b> = 95% confidence limit on pole in degrees (e.g. 6.2)<br>\n",
    "<b>k</b> = Fisher precision parameter (e.g. 42.5)<br>\n",
    "<b>N</b> = Number of VGPs used to calculate the mean<br>\n",
    "<b>PolarityZone</b> = Assigned polarity zone<br>\n",
    "<b>AgeNominal</b> = Mean / representative age of sampled formation (e.g. 1105.1)<br>\n",
    "<b>AgeLower</b> = Estimate lower bound on age uncertainty (e.g. 1103.2)<br>\n",
    "<b>AgeUpper</b> = Estimate upper bound on age uncertainty (e.g. 1107.4)<br>\n",
    "<b>Gaussian_2sigma</b> = 2sigma error if Gaussian Distribution is to be used<br>\n",
    "<b>GaussianOrUniform</b> = Distribution type used for Bayesian inversion<br>\n",
    "<b>Q</b> = Van der Voo quality criteria (0 - 7)<br>"
   ]
  },
  {
   "cell_type": "code",
   "execution_count": 2,
   "metadata": {},
   "outputs": [],
   "source": [
    "pole_means = pd.DataFrame(columns=['PoleName','SLat','SLon','PLat','PLon',\n",
    "                                   'A95','K','N','PolarityZone','PmagRef',\n",
    "                                   'AgeNominal','AgeLower','AgeUpper',\n",
    "                                   'AgeInfo','AgeRef','Gaussian_2sigma',\n",
    "                                   'GaussianOrUniform','Q','color'])"
   ]
  },
  {
   "attachments": {},
   "cell_type": "markdown",
   "metadata": {},
   "source": [
    "# Data compilation by volcanic group\n",
    "\n",
    "## Osler Volcanic Group"
   ]
  },
  {
   "cell_type": "markdown",
   "metadata": {},
   "source": [
    "### Import Halls (1974) data"
   ]
  },
  {
   "cell_type": "code",
   "execution_count": 4,
   "metadata": {},
   "outputs": [],
   "source": [
    "%%capture\n",
    "ipmag.download_magic('Halls1974.txt',\n",
    "                     dir_path='../data/pmag_compiled/Halls1974',\n",
    "                     input_dir_path='../data/pmag_compiled/Halls1974',\n",
    "                     overwrite=True,print_progress=False,data_model=3.0)\n",
    "Halls1974_sites = pd.read_csv('../data/pmag_compiled/Halls1974/sites.txt',sep='\\t',header=1)"
   ]
  },
  {
   "cell_type": "markdown",
   "metadata": {},
   "source": [
    "We are interested in using tilt-corrected data so will filter the DataFrame such that only data with dir_tilt_correction of 100 are included. We also wish to consider data from reversed and normal flows separately so will create DataFrames for each polarity."
   ]
  },
  {
   "cell_type": "code",
   "execution_count": 5,
   "metadata": {},
   "outputs": [],
   "source": [
    "Halls1974_sites_tc = Halls1974_sites[Halls1974_sites['dir_tilt_correction']==100]\n",
    "Halls1974_sites_r = Halls1974_sites_tc[Halls1974_sites_tc['location']=='Osler Volcanics, Nipigon Strait, Lower Reversed']\n",
    "Halls1974_sites_n = Halls1974_sites_tc[Halls1974_sites_tc['location']=='Osler Volcanics, Nipigon Strait, Upper Normal']"
   ]
  },
  {
   "cell_type": "markdown",
   "metadata": {},
   "source": [
    "### Import Swanson-Hysell et al. (2014b) data"
   ]
  },
  {
   "cell_type": "code",
   "execution_count": 22,
   "metadata": {},
   "outputs": [],
   "source": [
    "%%capture\n",
    "ipmag.download_magic('magic_contribution_11088_model3.txt',\n",
    "                     dir_path='../data/pmag_compiled/Swanson-Hysell2014b',\n",
    "                     input_dir_path='../data/pmag_compiled/Swanson-Hysell2014b',\n",
    "                     overwrite=True,print_progress=False,data_model=3.0)\n",
    "SH2014_sites = pd.read_csv('../data/pmag_compiled/Swanson-Hysell2014b/sites.txt',sep='\\t',header=1)\n",
    "\n",
    "# filter out the rows with empty direction values\n",
    "SH2014_sites = SH2014_sites[~SH2014_sites['dir_dec'].isna()]"
   ]
  },
  {
   "cell_type": "code",
   "execution_count": 23,
   "metadata": {},
   "outputs": [
    {
     "data": {
      "text/html": [
       "<div>\n",
       "<style scoped>\n",
       "    .dataframe tbody tr th:only-of-type {\n",
       "        vertical-align: middle;\n",
       "    }\n",
       "\n",
       "    .dataframe tbody tr th {\n",
       "        vertical-align: top;\n",
       "    }\n",
       "\n",
       "    .dataframe thead th {\n",
       "        text-align: right;\n",
       "    }\n",
       "</style>\n",
       "<table border=\"1\" class=\"dataframe\">\n",
       "  <thead>\n",
       "    <tr style=\"text-align: right;\">\n",
       "      <th></th>\n",
       "      <th>age</th>\n",
       "      <th>age_high</th>\n",
       "      <th>age_low</th>\n",
       "      <th>age_unit</th>\n",
       "      <th>bed_dip</th>\n",
       "      <th>bed_dip_direction</th>\n",
       "      <th>citations</th>\n",
       "      <th>description</th>\n",
       "      <th>dir_alpha95</th>\n",
       "      <th>dir_dec</th>\n",
       "      <th>dir_inc</th>\n",
       "      <th>dir_n_specimens</th>\n",
       "      <th>geologic_classes</th>\n",
       "      <th>geologic_types</th>\n",
       "      <th>height</th>\n",
       "      <th>lat</th>\n",
       "      <th>lithologies</th>\n",
       "      <th>location</th>\n",
       "      <th>lon</th>\n",
       "      <th>method_codes</th>\n",
       "      <th>site</th>\n",
       "      <th>vgp_lat</th>\n",
       "      <th>vgp_lon</th>\n",
       "    </tr>\n",
       "  </thead>\n",
       "  <tbody>\n",
       "    <tr>\n",
       "      <th>1</th>\n",
       "      <td>1106.0</td>\n",
       "      <td>1110.0</td>\n",
       "      <td>1103.0</td>\n",
       "      <td>Ma</td>\n",
       "      <td>NaN</td>\n",
       "      <td>NaN</td>\n",
       "      <td>This study</td>\n",
       "      <td>SI1(11.8 to 26.4)</td>\n",
       "      <td>2.7</td>\n",
       "      <td>79.7</td>\n",
       "      <td>-70.5</td>\n",
       "      <td>7.0</td>\n",
       "      <td>NaN</td>\n",
       "      <td>NaN</td>\n",
       "      <td>11.8</td>\n",
       "      <td>48.8122</td>\n",
       "      <td>NaN</td>\n",
       "      <td>Simpson Island</td>\n",
       "      <td>272.3380</td>\n",
       "      <td>DE-FM:LP-DC4:LP-DIR-AF</td>\n",
       "      <td>SI1(11.8 to 26.4)</td>\n",
       "      <td>33.1</td>\n",
       "      <td>229.6</td>\n",
       "    </tr>\n",
       "    <tr>\n",
       "      <th>3</th>\n",
       "      <td>1106.0</td>\n",
       "      <td>1110.0</td>\n",
       "      <td>1103.0</td>\n",
       "      <td>Ma</td>\n",
       "      <td>NaN</td>\n",
       "      <td>NaN</td>\n",
       "      <td>This study</td>\n",
       "      <td>SI1(116.3 to 118.8)</td>\n",
       "      <td>6.4</td>\n",
       "      <td>74.1</td>\n",
       "      <td>-70.3</td>\n",
       "      <td>6.0</td>\n",
       "      <td>NaN</td>\n",
       "      <td>NaN</td>\n",
       "      <td>116.3</td>\n",
       "      <td>48.8062</td>\n",
       "      <td>NaN</td>\n",
       "      <td>Simpson Island</td>\n",
       "      <td>272.3366</td>\n",
       "      <td>DE-FM:LP-DC4:LP-DIR-AF</td>\n",
       "      <td>SI1(116.3 to 118.8)</td>\n",
       "      <td>30.4</td>\n",
       "      <td>231.8</td>\n",
       "    </tr>\n",
       "    <tr>\n",
       "      <th>5</th>\n",
       "      <td>1106.0</td>\n",
       "      <td>1110.0</td>\n",
       "      <td>1103.0</td>\n",
       "      <td>Ma</td>\n",
       "      <td>NaN</td>\n",
       "      <td>NaN</td>\n",
       "      <td>This study</td>\n",
       "      <td>SI1(119.7 to 122.1)</td>\n",
       "      <td>6.8</td>\n",
       "      <td>87.5</td>\n",
       "      <td>-68.9</td>\n",
       "      <td>5.0</td>\n",
       "      <td>NaN</td>\n",
       "      <td>NaN</td>\n",
       "      <td>119.7</td>\n",
       "      <td>48.8060</td>\n",
       "      <td>NaN</td>\n",
       "      <td>Simpson Island</td>\n",
       "      <td>272.3366</td>\n",
       "      <td>DE-FM:LP-DC4:LP-DIR-AF</td>\n",
       "      <td>SI1(119.7 to 122.1)</td>\n",
       "      <td>35.3</td>\n",
       "      <td>223.9</td>\n",
       "    </tr>\n",
       "    <tr>\n",
       "      <th>7</th>\n",
       "      <td>1106.0</td>\n",
       "      <td>1110.0</td>\n",
       "      <td>1103.0</td>\n",
       "      <td>Ma</td>\n",
       "      <td>NaN</td>\n",
       "      <td>NaN</td>\n",
       "      <td>This study</td>\n",
       "      <td>SI1(122.1 to 123.7)</td>\n",
       "      <td>4.9</td>\n",
       "      <td>75.7</td>\n",
       "      <td>-69.1</td>\n",
       "      <td>6.0</td>\n",
       "      <td>NaN</td>\n",
       "      <td>NaN</td>\n",
       "      <td>122.1</td>\n",
       "      <td>48.8058</td>\n",
       "      <td>NaN</td>\n",
       "      <td>Simpson Island</td>\n",
       "      <td>272.3367</td>\n",
       "      <td>DE-FM:LP-DC4:LP-DIR-AF</td>\n",
       "      <td>SI1(122.1 to 123.7)</td>\n",
       "      <td>30.0</td>\n",
       "      <td>229.6</td>\n",
       "    </tr>\n",
       "    <tr>\n",
       "      <th>9</th>\n",
       "      <td>1106.0</td>\n",
       "      <td>1110.0</td>\n",
       "      <td>1103.0</td>\n",
       "      <td>Ma</td>\n",
       "      <td>NaN</td>\n",
       "      <td>NaN</td>\n",
       "      <td>This study</td>\n",
       "      <td>SI1(28.3 to 29.2)</td>\n",
       "      <td>3.9</td>\n",
       "      <td>109.8</td>\n",
       "      <td>-66.8</td>\n",
       "      <td>7.0</td>\n",
       "      <td>NaN</td>\n",
       "      <td>NaN</td>\n",
       "      <td>28.3</td>\n",
       "      <td>48.8107</td>\n",
       "      <td>NaN</td>\n",
       "      <td>Simpson Island</td>\n",
       "      <td>272.3377</td>\n",
       "      <td>DE-FM:LP-DC4:LP-DIR-AF</td>\n",
       "      <td>SI1(28.3 to 29.2)</td>\n",
       "      <td>45.8</td>\n",
       "      <td>210.9</td>\n",
       "    </tr>\n",
       "  </tbody>\n",
       "</table>\n",
       "</div>"
      ],
      "text/plain": [
       "      age  age_high  age_low age_unit  bed_dip  bed_dip_direction   citations  \\\n",
       "1  1106.0  1110.0    1103.0   Ma      NaN      NaN                 This study   \n",
       "3  1106.0  1110.0    1103.0   Ma      NaN      NaN                 This study   \n",
       "5  1106.0  1110.0    1103.0   Ma      NaN      NaN                 This study   \n",
       "7  1106.0  1110.0    1103.0   Ma      NaN      NaN                 This study   \n",
       "9  1106.0  1110.0    1103.0   Ma      NaN      NaN                 This study   \n",
       "\n",
       "           description  dir_alpha95  dir_dec  dir_inc  dir_n_specimens  \\\n",
       "1  SI1(11.8 to 26.4)    2.7          79.7    -70.5     7.0               \n",
       "3  SI1(116.3 to 118.8)  6.4          74.1    -70.3     6.0               \n",
       "5  SI1(119.7 to 122.1)  6.8          87.5    -68.9     5.0               \n",
       "7  SI1(122.1 to 123.7)  4.9          75.7    -69.1     6.0               \n",
       "9  SI1(28.3 to 29.2)    3.9          109.8   -66.8     7.0               \n",
       "\n",
       "  geologic_classes geologic_types  height      lat lithologies  \\\n",
       "1  NaN              NaN            11.8    48.8122  NaN          \n",
       "3  NaN              NaN            116.3   48.8062  NaN          \n",
       "5  NaN              NaN            119.7   48.8060  NaN          \n",
       "7  NaN              NaN            122.1   48.8058  NaN          \n",
       "9  NaN              NaN            28.3    48.8107  NaN          \n",
       "\n",
       "         location       lon            method_codes                 site  \\\n",
       "1  Simpson Island  272.3380  DE-FM:LP-DC4:LP-DIR-AF  SI1(11.8 to 26.4)     \n",
       "3  Simpson Island  272.3366  DE-FM:LP-DC4:LP-DIR-AF  SI1(116.3 to 118.8)   \n",
       "5  Simpson Island  272.3366  DE-FM:LP-DC4:LP-DIR-AF  SI1(119.7 to 122.1)   \n",
       "7  Simpson Island  272.3367  DE-FM:LP-DC4:LP-DIR-AF  SI1(122.1 to 123.7)   \n",
       "9  Simpson Island  272.3377  DE-FM:LP-DC4:LP-DIR-AF  SI1(28.3 to 29.2)     \n",
       "\n",
       "   vgp_lat  vgp_lon  \n",
       "1  33.1     229.6    \n",
       "3  30.4     231.8    \n",
       "5  35.3     223.9    \n",
       "7  30.0     229.6    \n",
       "9  45.8     210.9    "
      ]
     },
     "execution_count": 23,
     "metadata": {},
     "output_type": "execute_result"
    }
   ],
   "source": [
    "SH2014_sites.head()"
   ]
  },
  {
   "cell_type": "markdown",
   "metadata": {},
   "source": [
    "Split Swanson-Hysell et al. (2014b) data by stratigraphic posiition into the lower and upper third and then combine the data from the upper third with the reversed data from the Halls (1974) Nipigon Strait region study as done in Swanson-Hysell et al. (2014b) using the same stratigraphic levels."
   ]
  },
  {
   "cell_type": "code",
   "execution_count": 24,
   "metadata": {},
   "outputs": [],
   "source": [
    "SH2014_OslerR_lower = SH2014_sites[SH2014_sites.height<1041]\n",
    "SH2014_OslerR_upper = SH2014_sites[SH2014_sites.height>2082]"
   ]
  },
  {
   "cell_type": "markdown",
   "metadata": {},
   "source": [
    "### Import new Osler results"
   ]
  },
  {
   "cell_type": "code",
   "execution_count": 25,
   "metadata": {},
   "outputs": [],
   "source": [
    "%%capture\n",
    "ipmag.download_magic('AgatePointPuff_Feb6_MagIC3.txt',\n",
    "                     dir_path='../data/pmag_compiled/Swanson-Hysell2019a/',\n",
    "                     input_dir_path='../data/pmag_compiled/Swanson-Hysell2019a/',\n",
    "                     overwrite=True,print_progress=False,data_model=3.0)\n",
    "new_Osler_sites = pd.read_csv('../data/pmag_compiled/Swanson-Hysell2019a/sites.txt',\n",
    "                              sep='\\t',skiprows=1)\n",
    "new_Osler_sites_tiltcorrected = new_Osler_sites[new_Osler_sites.dir_tilt_correction == 100]\n",
    "new_Osler_sites_AP = new_Osler_sites_tiltcorrected[new_Osler_sites_tiltcorrected.location == 'Agate Point']\n",
    "new_Osler_sites_Puff = new_Osler_sites_tiltcorrected[new_Osler_sites_tiltcorrected.location == 'Puff Island']"
   ]
  },
  {
   "cell_type": "code",
   "execution_count": 26,
   "metadata": {},
   "outputs": [],
   "source": [
    "SH2014_OslerR_lower_vgps = ipmag.make_di_block(SH2014_OslerR_lower['vgp_lon'].tolist(),\n",
    "                              SH2014_OslerR_lower['vgp_lat'].tolist())\n",
    "SH2014_OslerR_upper_vgps = ipmag.make_di_block(SH2014_OslerR_upper['vgp_lon'].tolist(),\n",
    "                              SH2014_OslerR_upper['vgp_lat'].tolist())\n",
    "Halls1974_OslerR_vgps = ipmag.make_di_block(Halls1974_sites_r['vgp_lon'].tolist(),\n",
    "                              Halls1974_sites_r['vgp_lat'].tolist())\n",
    "AgatePoint_OslerR_vgps = ipmag.make_di_block(new_Osler_sites_AP['vgp_lon'].tolist(),\n",
    "                              new_Osler_sites_AP['vgp_lat'].tolist())\n",
    "AgatePoint_OslerR_vgps = ipmag.do_flip(di_block=AgatePoint_OslerR_vgps)"
   ]
  },
  {
   "cell_type": "markdown",
   "metadata": {},
   "source": [
    "### Osler reverse (R1; lower Alona Bay reversed-polarity zone) pole"
   ]
  },
  {
   "cell_type": "code",
   "execution_count": 27,
   "metadata": {},
   "outputs": [
    {
     "name": "stdout",
     "output_type": "stream",
     "text": [
      "Plon: 218.6  Plat: 40.9\n",
      "Number of directions in mean (n): 30\n",
      "Angular radius of 95% confidence (A_95): 4.8\n",
      "Precision parameter (k) estimate: 31.5\n"
     ]
    }
   ],
   "source": [
    "Osler_lowerR_pole = pmag.fisher_mean(SH2014_OslerR_lower_vgps)\n",
    "ipmag.print_pole_mean(Osler_lowerR_pole)"
   ]
  },
  {
   "cell_type": "markdown",
   "metadata": {},
   "source": [
    "### Osler reverse (R2; upper Alona Bay reversed-polarity zone) pole"
   ]
  },
  {
   "cell_type": "code",
   "execution_count": 28,
   "metadata": {},
   "outputs": [
    {
     "name": "stdout",
     "output_type": "stream",
     "text": [
      "Plon: 201.6  Plat: 42.5\n",
      "Number of directions in mean (n): 59\n",
      "Angular radius of 95% confidence (A_95): 3.7\n",
      "Precision parameter (k) estimate: 25.7\n"
     ]
    }
   ],
   "source": [
    "Osler_upperR_pole_old = pmag.fisher_mean(SH2014_OslerR_upper_vgps+Halls1974_OslerR_vgps)\n",
    "ipmag.print_pole_mean(Osler_upperR_pole_old)"
   ]
  },
  {
   "cell_type": "code",
   "execution_count": 29,
   "metadata": {},
   "outputs": [
    {
     "name": "stdout",
     "output_type": "stream",
     "text": [
      "Plon: 203.4  Plat: 42.3\n",
      "Number of directions in mean (n): 64\n",
      "Angular radius of 95% confidence (A_95): 3.7\n",
      "Precision parameter (k) estimate: 24.4\n"
     ]
    }
   ],
   "source": [
    "Osler_upperR_pole_new = pmag.fisher_mean(SH2014_OslerR_upper_vgps+Halls1974_OslerR_vgps+AgatePoint_OslerR_vgps)\n",
    "ipmag.print_pole_mean(Osler_upperR_pole_new)"
   ]
  },
  {
   "cell_type": "markdown",
   "metadata": {},
   "source": [
    "These mean poles can be added to the pole_means dataframe. In terms of Q factor, a fold test on the Osler R2 pole utilizing the directional data of both Halls (1974) and Swanson-Hysell et al. (2014b) passes Tauxe and Watson (1994) and McFadden and McElhinny (1990) fold tests (Tauxe et al., 2016). Given evidence for early tilting (e.g. the angular unconformity associated with the syn-rift volcanism Puff Island Conglomerate), this test provided evidence for a primary origin of magnetization. The Osler reverse (lower) data have no such test, although there are younger dikes of normal polarity within the reversed volcanics (that likely correspond to Portage Lake normal-polarity zone) providing additional evidence that the reversed volcanics have not be remagnetized. Buchan et al. (2001) considered the reversed Osler Volcanic Group pole to be a \"key pole\" and made the additional argument that the unconformity test provides strong evidence for a primary origin of remanence:\n",
    "\n",
    "> Remanence is considered primary because the position of the prominent Keweenawan polarity reversal in the Upper Osler lavas coincides exactly with the position of an unconformity in the sequence (Halls, 1974)."
   ]
  },
  {
   "cell_type": "code",
   "execution_count": 31,
   "metadata": {},
   "outputs": [],
   "source": [
    "pole_means.loc['Osler_R1'] = pd.Series({'PoleName' : 'Osler reverse (lower)',\n",
    "                                        'SLat' : 48.80,\n",
    "                                        'SLon' : 360-87.66,\n",
    "                                        'PLat' : round(Osler_lowerR_pole['inc'],1),\n",
    "                                        'PLon' : round(Osler_lowerR_pole['dec'],1),\n",
    "                                        'A95' : round(Osler_lowerR_pole['alpha95'],1),\n",
    "                                        'K' : round(Osler_lowerR_pole['k'],1),\n",
    "                                        'N' : int(Osler_lowerR_pole['n']),\n",
    "                                        'PolarityZone' : 'Alona Bay reversed-polarity zone',\n",
    "                                        'PmagRef' : 'Swanson-Hysell et al., 2014b',\n",
    "                                        'AgeNominal' : 1108,\n",
    "                                        'AgeLower' : 1105.15,\n",
    "                                        'AgeUpper' : 1110,\n",
    "                                        'AgeInfo' : 'Older than 1105.15 $\\pm$ 0.33 Ma Osler reverse (upper) pole, perhaps similar in age in Logan Sills ($^{\\mathrm{207}}$Pb/$^{\\mathrm{206}}$Pb date of 1109 $\\pm$ 1 Ma)',\n",
    "                                        'AgeRef' : 'Davis and Sutcliffe, 1985; this study',\n",
    "                                        'GaussianOrUniform' : 'uniform',\n",
    "                                        'Q' : 7,\n",
    "                                        'color' : '#B82431'})\n",
    "\n",
    "pole_means.loc['Osler_R2'] = pd.Series({'PoleName' : 'Osler reverse (upper)',\n",
    "                                        'SLat' : 48.59,\n",
    "                                        'SLon' : 360-88.19,\n",
    "                                        'PLat' : round(Osler_upperR_pole_new['inc'],1),\n",
    "                                        'PLon' : round(Osler_upperR_pole_new['dec'],1),\n",
    "                                        'A95' : round(Osler_upperR_pole_new['alpha95'],1),\n",
    "                                        'N' : int(Osler_upperR_pole_new['n']),\n",
    "                                        'K' : round(Osler_upperR_pole_new['k'],1),\n",
    "                                        'PolarityZone' : 'Alona Bay reversed-polarity zone',\n",
    "                                        'PmagRef' : 'Halls, 1974; Swanson-Hysell et al., 2014b; this study',\n",
    "                                        'AgeNominal' : 1105.15,\n",
    "                                        'AgeLower' : 1104.82,\n",
    "                                        'AgeUpper' : 1105.48,\n",
    "                                        'AgeInfo' : '$^{\\mathrm{206}}$Pb/$^{\\mathrm{238}}$U date of 1105.15 $\\pm$ 0.33 Ma for a rhyolite at Agate Point (this study)',\n",
    "                                        'AgeRef' : 'this study',\n",
    "                                        'GaussianOrUniform' : 'gaussian',\n",
    "                                        'Gaussian_2sigma' : 0.33,\n",
    "                                        'Q' : 7,\n",
    "                                        'color' : '#F2A07E'})"
   ]
  },
  {
   "cell_type": "markdown",
   "metadata": {},
   "source": [
    "### Osler normal pole\n",
    "\n",
    "The study of Halls (1974) included 5 normal sites and previous poles utilizing these data have calculated a mean pole wherein each of these sites is equally weighted (e.g. Halls and Pesonen, 1982). However, field mapping by Swanson-Hysell and Fairchild in July 2014 of the Osler Volcanic Group in the vicinity of Puff Island in the Lake Superior Archipelago revealed that the 5 normal sites of Halls (1974) are from a total of two flows. Sites 1, 2 and 5 are all from the first thick flow above the Puff Island conglomerate while sites 3 and 4 are from a single flow that forms the SSE shoreline of Puff Island and Tremblay Island."
   ]
  },
  {
   "cell_type": "code",
   "execution_count": 32,
   "metadata": {},
   "outputs": [],
   "source": [
    "Halls1974_sites_n = Halls1974_sites[Halls1974_sites['location']=='Osler Volcanics, Nipigon Strait, Upper Normal']"
   ]
  },
  {
   "cell_type": "markdown",
   "metadata": {},
   "source": [
    "To deal with the multiple sites from the same flow, we can calculate the mean direction of the Halls (1974) \"sites\" for each flow and then calculate the VGP from that mean direction. This method isn't ideal as it would be preferable to calculate Fisher means from the sample level data, but these data are not published."
   ]
  },
  {
   "cell_type": "code",
   "execution_count": 33,
   "metadata": {},
   "outputs": [],
   "source": [
    "#Halls flow #1 is sites 1, 2 and 5 which we can separate out into a new list of directions\n",
    "Halls_N_flow1_directions=[]\n",
    "Halls_N_flow1_directions.append([Halls1974_sites_n.dir_dec[0], Halls1974_sites_n.dir_inc[0]])\n",
    "Halls_N_flow1_directions.append([Halls1974_sites_n.dir_dec[1], Halls1974_sites_n.dir_inc[1]])\n",
    "Halls_N_flow1_directions.append([Halls1974_sites_n.dir_dec[4], Halls1974_sites_n.dir_inc[4]])\n",
    "\n",
    "#take the Fisher mean of flow 1 directions\n",
    "Halls_N_flow1_mean=pmag.fisher_mean(Halls_N_flow1_directions)\n",
    "\n",
    "#Halls flow #2 is sites 3 and 4 which we can separate out into a new list of directions\n",
    "Halls_N_flow2_directions=[]\n",
    "Halls_N_flow2_directions.append([Halls1974_sites_n.dir_dec[2], Halls1974_sites_n.dir_inc[2]])\n",
    "Halls_N_flow2_directions.append([Halls1974_sites_n.dir_dec[3], Halls1974_sites_n.dir_inc[3]])\n",
    "\n",
    "#take the Fisher mean of flow 2 directions\n",
    "Halls_N_flow2_mean = pmag.fisher_mean(Halls_N_flow2_directions)\n",
    "\n",
    "#create a new data frame and insert the data for the two flows (making sure that the values are floats)\n",
    "Halls1974_Osler_Data_N_new = pd.DataFrame(columns=['name','site_lat','site_lon','dec_tc','inc_tc'])\n",
    "\n",
    "Halls1974_Osler_Data_N_new.loc[0]=pd.Series({'name':'Halls_N_flow1', \n",
    "                                   'site_lat':Halls1974_sites_n.lat[0],\n",
    "                                   'site_lon':Halls1974_sites_n.lon[0],\n",
    "                                   'dec_tc':Halls_N_flow1_mean['dec'],\n",
    "                                   'inc_tc':Halls_N_flow1_mean['inc']})\n",
    "\n",
    "Halls1974_Osler_Data_N_new.loc[1]=pd.Series({'name':'Halls_N_flow2', \n",
    "                                   'site_lat':Halls1974_sites_n.lat[2],\n",
    "                                   'site_lon':Halls1974_sites_n.lon[2],\n",
    "                                   'dec_tc':Halls_N_flow2_mean['dec'],\n",
    "                                   'inc_tc':Halls_N_flow2_mean['inc']})\n",
    "\n",
    "Halls1974_Osler_Data_N_new['dec_tc'] = Halls1974_Osler_Data_N_new['dec_tc'].astype(float)\n",
    "Halls1974_Osler_Data_N_new['inc_tc'] = Halls1974_Osler_Data_N_new['inc_tc'].astype(float)\n",
    "Halls1974_Osler_Data_N_new['site_lat'] = Halls1974_Osler_Data_N_new['site_lat'].astype(float)\n",
    "Halls1974_Osler_Data_N_new['site_lon'] = Halls1974_Osler_Data_N_new['site_lon'].astype(float)\n",
    "\n",
    "#calculate VGPs from the directional data\n",
    "ipmag.vgp_calc(Halls1974_Osler_Data_N_new)\n",
    "\n",
    "OslerN_VGPs_Halls=[]\n",
    "OslerN_Plong_Halls=[]\n",
    "OslerN_Plat_Halls=[]\n",
    "\n",
    "for n in range(0,len(Halls1974_Osler_Data_N_new)): \n",
    "    Plong,Plat=Halls1974_Osler_Data_N_new['vgp_lon'][n],Halls1974_Osler_Data_N_new['vgp_lat'][n]\n",
    "    OslerN_Plong_Halls.append(Plong)\n",
    "    OslerN_Plat_Halls.append(Plat)\n",
    "    OslerN_VGPs_Halls.append([Plong,Plat,1.])"
   ]
  },
  {
   "cell_type": "markdown",
   "metadata": {},
   "source": [
    "In addition to the two flows above the angular unconformity studied by Halls (1974), we identified, sampled and developed data from two other flows exposed above the unconformity on Puff Island. After calculating each VGP, we can calculate a new mean pole for the Osler normal polarity volcanics. There are only 4 VGPs from which the Osler normal pole can be calculated making it so that the pole is not robust. There is little prospect for significant improvement of the pole as there only appear to be four flows in total exposed above the Puff Island conglomerate at the current water level of Lake Superior."
   ]
  },
  {
   "cell_type": "code",
   "execution_count": 34,
   "metadata": {},
   "outputs": [
    {
     "data": {
      "text/html": [
       "<div>\n",
       "<style scoped>\n",
       "    .dataframe tbody tr th:only-of-type {\n",
       "        vertical-align: middle;\n",
       "    }\n",
       "\n",
       "    .dataframe tbody tr th {\n",
       "        vertical-align: top;\n",
       "    }\n",
       "\n",
       "    .dataframe thead th {\n",
       "        text-align: right;\n",
       "    }\n",
       "</style>\n",
       "<table border=\"1\" class=\"dataframe\">\n",
       "  <thead>\n",
       "    <tr style=\"text-align: right;\">\n",
       "      <th></th>\n",
       "      <th>age</th>\n",
       "      <th>age_high</th>\n",
       "      <th>age_low</th>\n",
       "      <th>age_sigma</th>\n",
       "      <th>age_unit</th>\n",
       "      <th>citations</th>\n",
       "      <th>criteria</th>\n",
       "      <th>dir_alpha95</th>\n",
       "      <th>dir_comp_name</th>\n",
       "      <th>dir_dec</th>\n",
       "      <th>dir_inc</th>\n",
       "      <th>dir_k</th>\n",
       "      <th>dir_n_samples</th>\n",
       "      <th>dir_n_specimens</th>\n",
       "      <th>dir_n_specimens_lines</th>\n",
       "      <th>dir_n_specimens_planes</th>\n",
       "      <th>dir_polarity</th>\n",
       "      <th>dir_r</th>\n",
       "      <th>dir_tilt_correction</th>\n",
       "      <th>lat</th>\n",
       "      <th>location</th>\n",
       "      <th>lon</th>\n",
       "      <th>method_codes</th>\n",
       "      <th>result_quality</th>\n",
       "      <th>result_type</th>\n",
       "      <th>samples</th>\n",
       "      <th>site</th>\n",
       "      <th>software_packages</th>\n",
       "      <th>specimens</th>\n",
       "      <th>vgp_dm</th>\n",
       "      <th>vgp_dp</th>\n",
       "      <th>vgp_lat</th>\n",
       "      <th>vgp_lon</th>\n",
       "    </tr>\n",
       "  </thead>\n",
       "  <tbody>\n",
       "    <tr>\n",
       "      <th>11</th>\n",
       "      <td>1105.0</td>\n",
       "      <td>1106.0</td>\n",
       "      <td>1104.0</td>\n",
       "      <td>1.0</td>\n",
       "      <td>Ma</td>\n",
       "      <td>This study</td>\n",
       "      <td>ACCEPT</td>\n",
       "      <td>3.8</td>\n",
       "      <td>mag</td>\n",
       "      <td>303.4</td>\n",
       "      <td>25.2</td>\n",
       "      <td>219</td>\n",
       "      <td>8</td>\n",
       "      <td>8</td>\n",
       "      <td>8</td>\n",
       "      <td>0</td>\n",
       "      <td>t</td>\n",
       "      <td>7.9680</td>\n",
       "      <td>100</td>\n",
       "      <td>48.7</td>\n",
       "      <td>Puff Island</td>\n",
       "      <td>-88.0</td>\n",
       "      <td>LP-DIR-T:DE-BFL:DA-DIR-TILT:LP-DC4:DE-FM:DA-DIR-GEO</td>\n",
       "      <td>g</td>\n",
       "      <td>i</td>\n",
       "      <td>Puf1-1:Puf1-2:Puf1-3:Puf1-4:Puf1-5:Puf1-6:Puf1-7:Puf1-8</td>\n",
       "      <td>Puf1</td>\n",
       "      <td>pmagpy-3.4.1: demag_gui.v.3.0</td>\n",
       "      <td>Puf1-1a:Puf1-2a:Puf1-3a:Puf1-4a:Puf1-5a:Puf1-6a:Puf1-7a:Puf1-8a</td>\n",
       "      <td>4.1</td>\n",
       "      <td>2.2</td>\n",
       "      <td>31.7</td>\n",
       "      <td>164.8</td>\n",
       "    </tr>\n",
       "    <tr>\n",
       "      <th>13</th>\n",
       "      <td>1105.0</td>\n",
       "      <td>1106.0</td>\n",
       "      <td>1104.0</td>\n",
       "      <td>1.0</td>\n",
       "      <td>Ma</td>\n",
       "      <td>This study</td>\n",
       "      <td>ACCEPT</td>\n",
       "      <td>3.5</td>\n",
       "      <td>mag</td>\n",
       "      <td>296.9</td>\n",
       "      <td>24.7</td>\n",
       "      <td>293</td>\n",
       "      <td>7</td>\n",
       "      <td>7</td>\n",
       "      <td>7</td>\n",
       "      <td>0</td>\n",
       "      <td>t</td>\n",
       "      <td>6.9795</td>\n",
       "      <td>100</td>\n",
       "      <td>48.7</td>\n",
       "      <td>Puff Island</td>\n",
       "      <td>-88.0</td>\n",
       "      <td>LP-DIR-T:DE-BFL:DA-DIR-TILT:LP-DC4:DE-FM:DA-DIR-GEO</td>\n",
       "      <td>g</td>\n",
       "      <td>i</td>\n",
       "      <td>Puf2-1:Puf2-2:Puf2-3:Puf2-4:Puf2-5:Puf2-6:Puf2-7</td>\n",
       "      <td>Puf2</td>\n",
       "      <td>pmagpy-3.4.1: demag_gui.v.3.0</td>\n",
       "      <td>Puf2-1a:Puf2-2a:Puf2-3a:Puf2-4a:Puf2-5a:Puf2-6a:Puf2-7a</td>\n",
       "      <td>3.8</td>\n",
       "      <td>2.0</td>\n",
       "      <td>27.3</td>\n",
       "      <td>170.1</td>\n",
       "    </tr>\n",
       "  </tbody>\n",
       "</table>\n",
       "</div>"
      ],
      "text/plain": [
       "       age  age_high  age_low  age_sigma age_unit   citations criteria  \\\n",
       "11  1105.0  1106.0    1104.0   1.0        Ma       This study  ACCEPT    \n",
       "13  1105.0  1106.0    1104.0   1.0        Ma       This study  ACCEPT    \n",
       "\n",
       "    dir_alpha95 dir_comp_name  dir_dec  dir_inc  dir_k  dir_n_samples  \\\n",
       "11  3.8          mag           303.4    25.2     219    8               \n",
       "13  3.5          mag           296.9    24.7     293    7               \n",
       "\n",
       "    dir_n_specimens  dir_n_specimens_lines  dir_n_specimens_planes  \\\n",
       "11  8                8                      0                        \n",
       "13  7                7                      0                        \n",
       "\n",
       "   dir_polarity   dir_r  dir_tilt_correction   lat     location   lon  \\\n",
       "11  t            7.9680  100                  48.7  Puff Island -88.0   \n",
       "13  t            6.9795  100                  48.7  Puff Island -88.0   \n",
       "\n",
       "                                           method_codes result_quality  \\\n",
       "11  LP-DIR-T:DE-BFL:DA-DIR-TILT:LP-DC4:DE-FM:DA-DIR-GEO  g               \n",
       "13  LP-DIR-T:DE-BFL:DA-DIR-TILT:LP-DC4:DE-FM:DA-DIR-GEO  g               \n",
       "\n",
       "   result_type                                                  samples  site  \\\n",
       "11  i           Puf1-1:Puf1-2:Puf1-3:Puf1-4:Puf1-5:Puf1-6:Puf1-7:Puf1-8  Puf1   \n",
       "13  i           Puf2-1:Puf2-2:Puf2-3:Puf2-4:Puf2-5:Puf2-6:Puf2-7         Puf2   \n",
       "\n",
       "                software_packages  \\\n",
       "11  pmagpy-3.4.1: demag_gui.v.3.0   \n",
       "13  pmagpy-3.4.1: demag_gui.v.3.0   \n",
       "\n",
       "                                                          specimens  vgp_dm  \\\n",
       "11  Puf1-1a:Puf1-2a:Puf1-3a:Puf1-4a:Puf1-5a:Puf1-6a:Puf1-7a:Puf1-8a  4.1      \n",
       "13  Puf2-1a:Puf2-2a:Puf2-3a:Puf2-4a:Puf2-5a:Puf2-6a:Puf2-7a          3.8      \n",
       "\n",
       "    vgp_dp  vgp_lat  vgp_lon  \n",
       "11  2.2     31.7     164.8    \n",
       "13  2.0     27.3     170.1    "
      ]
     },
     "execution_count": 34,
     "metadata": {},
     "output_type": "execute_result"
    }
   ],
   "source": [
    "new_Osler_sites_Puff"
   ]
  },
  {
   "cell_type": "code",
   "execution_count": 35,
   "metadata": {},
   "outputs": [
    {
     "name": "stdout",
     "output_type": "stream",
     "text": [
      "Plon: 173.7  Plat: 30.2\n",
      "Number of directions in mean (n): 4\n",
      "Angular radius of 95% confidence (A_95): 8.6\n",
      "Precision parameter (k) estimate: 114.6\n"
     ]
    }
   ],
   "source": [
    "PuffIsland_OslerN_vgps = ipmag.make_di_block(new_Osler_sites_Puff['vgp_lon'].tolist(),\n",
    "                              new_Osler_sites_Puff['vgp_lat'].tolist())\n",
    "\n",
    "OslerN_pole = pmag.fisher_mean(OslerN_VGPs_Halls+PuffIsland_OslerN_vgps) \n",
    "ipmag.print_pole_mean(OslerN_pole)"
   ]
  },
  {
   "cell_type": "code",
   "execution_count": 36,
   "metadata": {},
   "outputs": [],
   "source": [
    "pole_means.loc['Osler_N'] = pd.Series({'PoleName' : 'Osler normal',\n",
    "                                        'SLat' : 48.64,\n",
    "                                        'SLon' : 271.91,\n",
    "                                        'PLat' : round(OslerN_pole['inc'],1),\n",
    "                                        'PLon' : round(OslerN_pole['dec'],1),\n",
    "                                        'A95' : round(OslerN_pole['alpha95'],1),\n",
    "                                        'K' : round(OslerN_pole['k'],1),\n",
    "                                        'N' : int(OslerN_pole['n']),\n",
    "                                        'PolarityZone' : 'Portage Lake normal-polarity zone',\n",
    "                                        'PmagRef' : 'Halls, 1974; this study',\n",
    "                                        'AgeNominal' : 1095,\n",
    "                                        'AgeLower' : 1080,\n",
    "                                        'AgeUpper' : 1100,\n",
    "                                        'AgeInfo' : 'Poorly known, significantly younger than the ca. 1105 Ma Agate Point Rhyolite date, pole position similiar to Portage Lake normal-polarity zone poles and distinct from Flour Bay normal-polarity zone pole and therefore likely younger than 1100 Ma date in the Alona Bay reversed-polarity zone',\n",
    "                                        'AgeRef' : '',\n",
    "                                        'GaussianOrUniform' : 'uniform',\n",
    "                                        'Q' : 7,\n",
    "                                        'color' : '#0000FF'})"
   ]
  },
  {
   "cell_type": "markdown",
   "metadata": {},
   "source": [
    "## Mamainse Point Volcanics\n",
    "\n",
    "The succession of basalt flows at Mamainse Point, Ontario in the easternmost portion of the Lake Superior basin is interpretted to be the most time-complete record of extrusive volcanism in the Midcontinent Rift. Paleomagnetic data developed in stratigraphic context from the succession at Mamainse Point published in Swanson-Hysell et al. (2009) and Swanson-Hysell et al. (2014a) are imported below.\n",
    "\n",
    "Swanson-Hysell, N. L., Maloof, A. C., Weiss, B. P., and Evans, D. A. D., 2009, No asymmetry in geomagnetic reversals recorded by 1.1-billion-year-old Keweenawan basalts: Nature Geoscience, vol. 2, pp. 713–717, doi:10.1038/ngeo622.\n",
    "\n",
    "Swanson-Hysell, N. L., Burgess, S. D., Maloof, A. C., and Bowring, S. A., 2014a, Magmatic activity and plate motion during the latent stage of Midcontinent Rift development: Geology, vol. 42, pp. 475–478, doi:10.1130/G35271.1.\n",
    "\n",
    "Link to MagIC contribution: https://earthref.org/MagIC/16333 or http://earthref.org/MAGIC/doi/10.1130/G35271.1"
   ]
  },
  {
   "cell_type": "code",
   "execution_count": 37,
   "metadata": {},
   "outputs": [],
   "source": [
    "%%capture\n",
    "ipmag.download_magic('MamainseMagIC.txt',\n",
    "                     dir_path='../data/pmag_compiled/Swanson-Hysell2014a',\n",
    "                     input_dir_path='../data/pmag_compiled/Swanson-Hysell2014a',\n",
    "                     overwrite=True,print_progress=False,data_model=3.0)\n",
    "MP_sites = pd.read_csv('../data/pmag_compiled/Swanson-Hysell2014a/sites.txt',sep='\\t',header=1)"
   ]
  },
  {
   "cell_type": "markdown",
   "metadata": {},
   "source": [
    "There are significant changes in pole position recorded in the succession at Mamainse Point. As a result, poles need to be calculated from subsets of the VGPs. These divisions are made by stratigraphic intervals as was done in Swanson-Hysell et al. (2009, 2014a) with four resulting poles:\n",
    "- Mamainse Point lower R1 (the stratigraphically lowest 600 meters; older portion of the Alona Bay reversed-polarity zone)\n",
    "- Mamainse Point lower R2 (flows between meters 1080 and 1301; the younger portion of the Alona Bay reversed-polarity zone)\n",
    "- Mamainse Point lower N and upper R (flows within the Flour Bay normal-polarity zone and the Flour Bay reversed-polarity zone)\n",
    "- Mamainse Point upper N (flows within the Portage Lake normal-polarity zone; all studied flows stratigraphically above the \"Great Conglomerate\")"
   ]
  },
  {
   "cell_type": "markdown",
   "metadata": {},
   "source": [
    "### Mamainse Point lower R1 (lower Alona Bay reversed-polarity zone)"
   ]
  },
  {
   "cell_type": "code",
   "execution_count": 38,
   "metadata": {},
   "outputs": [
    {
     "name": "stdout",
     "output_type": "stream",
     "text": [
      "Plon: 227.0  Plat: 49.5\n",
      "Number of directions in mean (n): 24\n",
      "Angular radius of 95% confidence (A_95): 5.3\n",
      "Precision parameter (k) estimate: 31.7\n"
     ]
    }
   ],
   "source": [
    "MP_sites_lowerR1 = MP_sites[MP_sites.height<600]\n",
    "MPlowerR1_mean = ipmag.fisher_mean(dec=MP_sites_lowerR1.vgp_lon.tolist(),\n",
    "                                   inc=MP_sites_lowerR1.vgp_lat.tolist())\n",
    "ipmag.print_pole_mean(MPlowerR1_mean)"
   ]
  },
  {
   "cell_type": "markdown",
   "metadata": {},
   "source": [
    "### Mamainse Point lower R2 (upper Alona Bay reversed-polarity zone)"
   ]
  },
  {
   "cell_type": "code",
   "execution_count": 39,
   "metadata": {},
   "outputs": [
    {
     "name": "stdout",
     "output_type": "stream",
     "text": [
      "Plon: 205.2  Plat: 37.5\n",
      "Number of directions in mean (n): 14\n",
      "Angular radius of 95% confidence (A_95): 4.5\n",
      "Precision parameter (k) estimate: 78.6\n"
     ]
    }
   ],
   "source": [
    "MP_sites_lowerR2 = MP_sites[(MP_sites.height > 1070) & (MP_sites.height < 1350)]\n",
    "MPlowerR2_mean = ipmag.fisher_mean(dec=MP_sites_lowerR2.vgp_lon.tolist(),\n",
    "                                   inc=MP_sites_lowerR2.vgp_lat.tolist())\n",
    "ipmag.print_pole_mean(MPlowerR2_mean)"
   ]
  },
  {
   "cell_type": "markdown",
   "metadata": {},
   "source": [
    "### Mamainse Point lower N and upper R (Flour Bay normal and reversed polarity zones)"
   ]
  },
  {
   "cell_type": "code",
   "execution_count": 40,
   "metadata": {},
   "outputs": [
    {
     "name": "stdout",
     "output_type": "stream",
     "text": [
      "Plon: 189.7  Plat: 36.1\n",
      "Number of directions in mean (n): 24\n",
      "Angular radius of 95% confidence (A_95): 4.9\n",
      "Precision parameter (k) estimate: 37.3\n"
     ]
    }
   ],
   "source": [
    "MP_sites_lowerN = MP_sites[(MP_sites.height > 1350) & (MP_sites.height < 1810)]\n",
    "MP_sites_upperR = MP_sites[(MP_sites.height > 1860) & (MP_sites.height < 2100)]\n",
    "MPlower_N_upper_R_mean = ipmag.fisher_mean(dec=MP_sites_lowerN.vgp_lon.tolist()+MP_sites_upperR.vgp_lon.tolist(),\n",
    "                                           inc=MP_sites_lowerN.vgp_lat.tolist()+MP_sites_upperR.vgp_lat.tolist())\n",
    "ipmag.print_pole_mean(MPlower_N_upper_R_mean)"
   ]
  },
  {
   "cell_type": "markdown",
   "metadata": {},
   "source": [
    "### Mamainse Point upper N (Portage Lake polarity zone)\n",
    "\n",
    "*Note that two upper N poles are presented in Swanson-Hysell et al., 2014a. The other one doesn't include the uppermost portion of the stratigraphy (the MP306 section)*"
   ]
  },
  {
   "cell_type": "code",
   "execution_count": 41,
   "metadata": {},
   "outputs": [
    {
     "name": "stdout",
     "output_type": "stream",
     "text": [
      "Plon: 183.2  Plat: 31.2\n",
      "Number of directions in mean (n): 34\n",
      "Angular radius of 95% confidence (A_95): 2.5\n",
      "Precision parameter (k) estimate: 94.4\n"
     ]
    }
   ],
   "source": [
    "MP_sites_upperN = MP_sites[MP_sites.height > 2400]\n",
    "MPupperN_mean = ipmag.fisher_mean(dec=MP_sites_upperN.vgp_lon.tolist(),\n",
    "                                   inc=MP_sites_upperN.vgp_lat.tolist())\n",
    "ipmag.print_pole_mean(MPupperN_mean)"
   ]
  },
  {
   "cell_type": "code",
   "execution_count": 42,
   "metadata": {},
   "outputs": [],
   "source": [
    "pole_means.loc['MP_lowerR1'] = pd.Series({'PoleName' : 'Mamainse lower reversed 1',\n",
    "                                        'SLat' : round(MP_sites_lowerR1.lat[0],2),\n",
    "                                        'SLon' : round(MP_sites_lowerR1.lon[0],2),\n",
    "                                        'PLat' : round(MPlowerR1_mean['inc'],1),\n",
    "                                        'PLon' : round(MPlowerR1_mean['dec'],1),\n",
    "                                        'A95' : round(MPlowerR1_mean['alpha95'],1),\n",
    "                                        'K' : round(MPlowerR1_mean['k'],1),\n",
    "                                        'N' : int(MPlowerR1_mean['n']),\n",
    "                                        'PolarityZone' : 'Alona Bay reversed-polarity zone',\n",
    "                                        'PmagRef' : 'Swanson-Hysell et al., 2014a',\n",
    "                                        'AgeNominal' : 1109,\n",
    "                                        'AgeLower' : 1106,\n",
    "                                        'AgeUpper' : 1112,\n",
    "                                        'AgeInfo' : 'Likely older than ca. 1105 Ma given distinct higher latitude pole position from Osler R1 and similar position to ca. 1107 Ma Siemens Creek Volcanic Pole',\n",
    "                                        'AgeRef' : '',\n",
    "                                        'GaussianOrUniform' : 'uniform',\n",
    "                                        'Q' : '7',\n",
    "                                        'color' : '#930E26'})\n",
    "\n",
    "pole_means.loc['MP_lowerR2'] = pd.Series({'PoleName' : 'Mamainse lower reversed 2',\n",
    "                                        'SLat' : round(MP_sites_lowerR2.lat.tolist()[0],2),\n",
    "                                        'SLon' : round(MP_sites_lowerR2.lon.tolist()[0],2),\n",
    "                                        'PLat' : round(MPlowerR2_mean['inc'],1),\n",
    "                                        'PLon' : round(MPlowerR2_mean['dec'],1),\n",
    "                                        'A95' : round(MPlowerR2_mean['alpha95'],1),\n",
    "                                        'K' : round(MPlowerR2_mean['k'],1),\n",
    "                                        'N' : int(MPlowerR2_mean['n']),\n",
    "                                        'PolarityZone' : 'Alona Bay reversed-polarity zone',\n",
    "                                        'PmagRef' : 'Swanson-Hysell, 2014a',\n",
    "                                        'AgeNominal' : 1105,\n",
    "                                        'AgeLower' : 1100.4,\n",
    "                                        'AgeUpper' : 1109,\n",
    "                                        'AgeInfo' : 'Older than $^{\\mathrm{206}}$Pb/$^{\\mathrm{238}}$U date of 1100.4 Ma based on stratigraphic position; likely ca. 1105 Ma based on comparison with paleomagnetic data from the Osler Volcanic Group',\n",
    "                                        'AgeRef' : 'Swanson-Hysell, 2014a',\n",
    "                                        'GaussianOrUniform' : 'uniform',\n",
    "                                        'Q' : '7',\n",
    "                                        'color' : '#F8C1A6'})\n",
    "\n",
    "pole_means.loc['MP_lowerNupperR'] = pd.Series({'PoleName' : 'Mamainse lower normal and upper reversed',\n",
    "                                        'SLat' : round(MP_sites_upperR.lat.tolist()[0],2),\n",
    "                                        'SLon' : round(MP_sites_upperR.lon.tolist()[0],2),\n",
    "                                        'PLat' : round(MPlower_N_upper_R_mean['inc'],1),\n",
    "                                        'PLon' : round(MPlower_N_upper_R_mean['dec'],1),\n",
    "                                        'A95' : round(MPlower_N_upper_R_mean['alpha95'],1),\n",
    "                                        'K' : round(MPlower_N_upper_R_mean['k'],1),\n",
    "                                        'N' : int(MPlower_N_upper_R_mean['n']),\n",
    "                                        'PolarityZone' : 'Flour Bay normal and reversed polarity zones',\n",
    "                                        'PmagRef' : 'Swanson-Hysell, 2014a',\n",
    "                                        'AgeNominal' : 1100.36,\n",
    "                                        'AgeLower' : 1100.10,\n",
    "                                        'AgeUpper' : 1100.61,\n",
    "                                        'AgeInfo' : 'Age constrained by $^{\\mathrm{206}}$Pb/$^{\\mathrm{238}}$U date of 1100.36 $\\pm$ 0.25 Ma on Flour Bay tuff',\n",
    "                                        'AgeRef' : 'Swanson-Hysell, 2014a',\n",
    "                                        'GaussianOrUniform' : 'gaussian',\n",
    "                                        'Gaussian_2sigma' : 0.25,\n",
    "                                        'Q' : '7',\n",
    "                                        'color' : '#6A579A'})\n",
    "\n",
    "pole_means.loc['MP_upperN'] = pd.Series({'PoleName' : 'Mamainse upper normal',\n",
    "                                        'SLat' : round(MP_sites_upperN.lat.tolist()[0],2),\n",
    "                                        'SLon' : round(MP_sites_upperN.lon.tolist()[0],2),\n",
    "                                        'PLat' : round(MPupperN_mean['inc'],1),\n",
    "                                        'PLon' : round(MPupperN_mean['dec'],1),\n",
    "                                        'A95' : round(MPupperN_mean['alpha95'],1),\n",
    "                                        'K' : round(MPupperN_mean['k'],1),\n",
    "                                        'N' : int(MPupperN_mean['n']),\n",
    "                                        'PolarityZone' : 'Portage Lake normal-polarity zone',\n",
    "                                        'PmagRef' : 'Swanson-Hysell, 2014a',\n",
    "                                        'AgeNominal' : 1094,\n",
    "                                        'AgeLower' : 1090,\n",
    "                                        'AgeUpper' : 1100,\n",
    "                                        'AgeInfo' : 'Likely ca. 1094 Ma based on similar pole position to the Portage Lake Polarity Zone upper NE limb North Shore Volcanic Group poles',\n",
    "                                        'AgeRef' : '',\n",
    "                                        'GaussianOrUniform' : 'uniform',\n",
    "                                        'Q' : '7',\n",
    "                                        'color' : '#3B7185'})"
   ]
  },
  {
   "cell_type": "markdown",
   "metadata": {},
   "source": [
    "## North Shore Volcanic Group and Schroeder-Lutsen Basalts\n",
    "\n",
    "Tauxe and Kodama (2009) published data from sites of the North Shore Volcanic Group that was the first study of the North Shore Volcanic Group to publish data from these lava flows using modern methods. Books (1968, 1972) and Palmer (1970) also developed data that can largely be considered to be superseded by the Tauxe and Kodama results. However, we will consider some of the Books data from the Grand Portage basalts since only one of those flows was sampled by Tauxe and Kodama (2009) and the generally single component remanence of these lava flows makes it such that the single AF cleaning step methods of those researchers likely isolated robust site means. The Tauxe data can be unpacked from the MagIC contribution and be imported into a dataframe."
   ]
  },
  {
   "cell_type": "markdown",
   "metadata": {},
   "source": [
    "### Import Tauxe and Kodama (2009)\n",
    "\n",
    "Tauxe, L. and Kodama, K., 2009, Paleosecular variation models for ancient times: Clues from Keweenawan lava flows: Physics of the Earth and Planetary Interiors, vol. 177, pp. 31–45, doi:10.1016/j.pepi.2009.07.006.\n",
    "\n",
    "Link to MagIC contribution: http://earthref.org/MAGIC/doi/j.pepi.2009.07.006"
   ]
  },
  {
   "cell_type": "code",
   "execution_count": 43,
   "metadata": {},
   "outputs": [],
   "source": [
    "%%capture\n",
    "ipmag.download_magic('zmab0099887tmp01.txt',\n",
    "                     dir_path='../data/pmag_compiled/Tauxe2009',\n",
    "                     input_dir_path='../data/pmag_compiled/Tauxe2009',\n",
    "                     overwrite=True,print_progress=False)"
   ]
  },
  {
   "cell_type": "code",
   "execution_count": 44,
   "metadata": {},
   "outputs": [],
   "source": [
    "NSVG_Data=pd.read_csv('../data/pmag_compiled/Tauxe2009/pmag_results.txt',sep='\\t',skiprows=1)"
   ]
  },
  {
   "cell_type": "markdown",
   "metadata": {},
   "source": [
    "#### Assign Tauxe and Kodama (2009) sites to lava sequences\n",
    "\n",
    "There are a few sites from intrusive units within the Tauxe and Kodama (2009) data set. Sites ns027 and ns029 are from the Brule Lake Hovland Gabbro. ns025 is from the Monker River Diabase. ns041 is from the Stony Point Diabase. The focus here is on extrusive flows so let's split the data into groups related to the sequence of lava flows they are from using the terminology from Minnesota Geological Survey mapping (Duluth Complex overviewmap). The sequence codes are as follows:\n",
    "\n",
    "- 'nnel' is the lower northeast sequence of the North Shore Volcanic Group\n",
    "- 'nneu' is the upper northeast sequence of the North Shore Volcanic Group\n",
    "- 'nswu' is the upper southwest sequence of the North Shore Volcanic Group\n",
    "- 'nsl' is the Schroeder-Lutsen basalts above the North Shore Volcanic Group\n",
    "\n",
    "These codes are assigned to the sites in the code cell below. "
   ]
  },
  {
   "cell_type": "code",
   "execution_count": 45,
   "metadata": {},
   "outputs": [],
   "source": [
    "nnel_site_list = ['ns024',\n",
    "                  'ns026']\n",
    "nneu_site_list = ['ns002',\n",
    "                  'ns003',\n",
    "                  'ns004',\n",
    "                  'ns005',\n",
    "                  'ns016',\n",
    "                  'ns018',\n",
    "                  'ns019',\n",
    "                  'ns020',\n",
    "                  'ns021',\n",
    "                  'ns022',\n",
    "                  'ns023',\n",
    "                  'ns028',\n",
    "                  'ns030',\n",
    "                  'ns031',\n",
    "                  'ns032']\n",
    "nswu_site_list = ['ns034',\n",
    "                  'ns035',\n",
    "                  'ns036',\n",
    "                  'ns037',\n",
    "                  'ns038',\n",
    "                  'ns039',\n",
    "                  'ns040',\n",
    "                  'ns042',\n",
    "                  'ns043',\n",
    "                  'ns044',\n",
    "                  'ns045',\n",
    "                  'ns046',\n",
    "                  'ns047',\n",
    "                  'ns048',\n",
    "                  'ns049',\n",
    "                  'ns050',\n",
    "                  'ns051',\n",
    "                  'ns052',\n",
    "                  'ns053',\n",
    "                  'ns054',\n",
    "                  'ns055',\n",
    "                  'ns056',\n",
    "                  'ns057',\n",
    "                  'ns058',\n",
    "                  'ns059',\n",
    "                  'ns060',\n",
    "                  'ns061',\n",
    "                  'ns062',\n",
    "                  'ns063',\n",
    "                  'ns064',\n",
    "                  'ns065',\n",
    "                  'ns066',\n",
    "                  'ns067',\n",
    "                  'ns068',\n",
    "                  'ns071',\n",
    "                  'ns072',\n",
    "                  'ns073',\n",
    "                  'ns074',\n",
    "                  'ns075',\n",
    "                  'ns077',\n",
    "                  'ns078',\n",
    "                  'ns079',\n",
    "                  'ns080',\n",
    "                  'ns081',\n",
    "                  'ns083',\n",
    "                  'ns085',\n",
    "                  'ns087']\n",
    "nsl_site_list = ['ns006',\n",
    "                 'ns007',\n",
    "                 'ns008',\n",
    "                 'ns009',\n",
    "                 'ns010',\n",
    "                 'ns011',\n",
    "                 'ns012',\n",
    "                 'ns013',\n",
    "                 'ns014',\n",
    "                 'ns015']\n",
    "\n",
    "nnel_data = NSVG_Data.loc[NSVG_Data['er_site_names'].isin(nnel_site_list)]\n",
    "nneu_data = NSVG_Data.loc[NSVG_Data['er_site_names'].isin(nneu_site_list)]\n",
    "nswu_data = NSVG_Data.loc[NSVG_Data['er_site_names'].isin(nswu_site_list)]\n",
    "nsl_data = NSVG_Data.loc[NSVG_Data['er_site_names'].isin(nsl_site_list)]"
   ]
  },
  {
   "cell_type": "markdown",
   "metadata": {},
   "source": [
    "### NSVG Southwest Sequence\n",
    "\n",
    "In addition to assigning sequences, these sites can be divided into the lithostratigraphic units described in Green et al. 2011 that are used in maps of the Minnesota Geological Survey such as GEOLOGIC MAP OF THE DULUTH COMPLEX AND RELATED ROCKS, NORTHEASTERN MINNESOTA (Miller et al., 2001) as well as the more detailed quadrangles. The codes of those map are used here as follows.\n",
    "\n",
    "- 'nlwb' is the Lakewood Basalts of the upper southwest sequence\n",
    "- 'nsrb' is the Sucker River Basalts of the upper southwest sequence\n",
    "- 'nlmb' is the Larsmont Basalts of the upper southwest sequence \n",
    "- 'nthb' is the Two Harbors Basalts of the upper southwest sequence\n",
    "\n",
    "*Note that there are no sites from Tauxe and Kodama (2009) within the following lithostratigraphic units of the upper Southwest Sequence: Leif Erickson Park lavas, Lakeside lavas, Gooseberry River Basalts, Belmore Bay lavas.*\n",
    "\n",
    "- 'ngpb' is the Grand Portage Basalts of the lower northeast sequence\n",
    "- 'ndba' is the Deronda Bay Andesite of the lower northeast sequence\n",
    "- 'nmil' is the Marr Island Lavas of the upper northeast sequence\n",
    "- 'nkcr' is the Kimball Creek felsites of the upper northeast sequence\n",
    "- 'nrcb' is the Red Cliff basalts of the upper northeast sequence\n",
    "- 'ncvb' is the Croftville basalts of the upper northeast sequence\n",
    "- 'nbwb' is the Breakwater basalts of the upper northeast sequence\n",
    "- 'ngha' is the Good Harbor Bay andesites of the upper northeast sequence\n",
    "- 'ntpb' is the Terrace Point basalt flow of the upper northeast sequence\n",
    "- 'norl'is the Onion River lavas of the upper northeast sequence"
   ]
  },
  {
   "cell_type": "code",
   "execution_count": 46,
   "metadata": {},
   "outputs": [],
   "source": [
    "nneu_nlwb_sites = ['ns053',\n",
    "                   'ns055',\n",
    "                   'ns057',\n",
    "                   'ns060',\n",
    "                   'ns061',\n",
    "                   'ns062',\n",
    "                   'ns063',\n",
    "                   'ns064',\n",
    "                   'ns065',\n",
    "                   'ns066',\n",
    "                   'ns067',\n",
    "                   'ns068',\n",
    "                   'ns071',\n",
    "                   'ns072',\n",
    "                   'ns073',\n",
    "                   'ns074',\n",
    "                   'ns075',\n",
    "                   'ns077',\n",
    "                   'ns078',\n",
    "                   'ns079',\n",
    "                   'ns080',\n",
    "                   'ns081',\n",
    "                   'ns083',\n",
    "                   'ns085',\n",
    "                   'ns087']\n",
    "        \n",
    "nswu_nsrb_sites =  ['ns040',\n",
    "                    'ns042',\n",
    "                    'ns043',\n",
    "                    'ns044',\n",
    "                    'ns045',\n",
    "                    'ns046',\n",
    "                    'ns047',\n",
    "                    'ns048',\n",
    "                    'ns049',\n",
    "                    'ns050',\n",
    "                    'ns051',\n",
    "                    'ns052',\n",
    "                    'ns054',\n",
    "                    'ns056',\n",
    "                    'ns058',\n",
    "                    'ns059']\n",
    "\n",
    "nswu_nlmb_sites = ['ns038',\n",
    "                   'ns039']\n",
    "\n",
    "nswu_nthb_sites = ['ns034',\n",
    "                   'ns035',\n",
    "                   'ns036',\n",
    "                   'ns037']\n",
    "\n",
    "#Brule_Lake_Hovland_Gabbro\n",
    "bhrd = ['ns027']\n",
    "nnel_ngpb_sites = ['ns024']\n",
    "nnel_ndba_sites = ['ns026']\n",
    "nneu_nmil_sites = ['ns030']\n",
    "nneu_nkcr_sites = ['ns022']\n",
    "nneu_nrcb_sites = ['ns020',\n",
    "                   'ns023',\n",
    "                   'ns018',\n",
    "                   'ns021']\n",
    "nneu_ncvb_sites = ['ns031',\n",
    "                   'ns028']\n",
    "nneu_nbwb_sites = ['ns016',\n",
    "                   'ns019']\n",
    "nneu_ngha_sites = ['ns003',\n",
    "                   'ns002',\n",
    "                   'ns004',\n",
    "                   'ns032']\n",
    "nneu_ntpb_sites = ['ns005']"
   ]
  },
  {
   "cell_type": "markdown",
   "metadata": {},
   "source": [
    "### Import Books (1968)\n",
    "\n",
    "The study of Books (1968) developed data from the Powder Mill Group and the Grand Portage Basalts. In this compilation, we have developed a MagIC database contribution for the Books (1968) data. The VGPs were not reported in the study. The code below imports a version of the MagIC contribution without the VGPs and calculates the VGPs using the ipmag.vgpcalc() function. These calculated VGPs were added to the Books (1968) dataset and included in the MagIC contribution that we uploaded.\n",
    "\n",
    "Books, K., 1968, Magnetization of the lowermost Keweenawan lava flows in the Lake Superior area, Geological Survey research 1968, chapter D: U.S. Geological Survey Professional Paper, vol. P 0600-D, pp. 248–254.\n",
    "\n",
    "Link to MagIC contribution: http://earthref.org/MagIC/11860"
   ]
  },
  {
   "cell_type": "code",
   "execution_count": 47,
   "metadata": {},
   "outputs": [],
   "source": [
    "Books1968 = pd.read_csv('../data/pmag_compiled/Books1968/Books1968.txt',sep='\\t',skiprows=10)\n",
    "ipmag.vgp_calc(Books1968,site_lon='lon',site_lat='lat',\n",
    "               dec_tc='dir_dec',inc_tc='dir_inc')\n",
    "Books1968.vgp_lat = Books1968.vgp_lat_rev\n",
    "Books1968.vgp_lon = Books1968.vgp_lon_rev\n",
    "#Books1968.to_csv('../data/pmag_compiled/Books1968/Books1968_vgps.csv')"
   ]
  },
  {
   "cell_type": "code",
   "execution_count": 48,
   "metadata": {},
   "outputs": [],
   "source": [
    "%%capture\n",
    "ipmag.download_magic('Books1968_MagIC.txt',\n",
    "                     dir_path='../data/pmag_compiled/Books1968',\n",
    "                     input_dir_path='../data/pmag_compiled/Books1968',\n",
    "                     overwrite=True,print_progress=False)"
   ]
  },
  {
   "cell_type": "code",
   "execution_count": 49,
   "metadata": {},
   "outputs": [],
   "source": [
    "Books1968_sites = pd.read_csv('../data/pmag_compiled/Books1968/sites.txt',sep='\\t',header=1)\n",
    "Books1968_ngpb_sites = Books1968_sites[Books1968_sites.location == 'Grand Portage']"
   ]
  },
  {
   "cell_type": "markdown",
   "metadata": {},
   "source": [
    "### Import Books (1972)\n",
    "\n",
    "The study of Books (1972) developed data from throughout the Lake Superior region including the upper northeast sequence of the North Shore Volcanic Group.\n",
    "\n",
    "Books, K., 1972, Paleomagnetism of some Lake Superior Keweenawan rocks: U.S. Geological Survey Professional Paper, vol. P 0760, p. 42."
   ]
  },
  {
   "cell_type": "code",
   "execution_count": 50,
   "metadata": {},
   "outputs": [],
   "source": [
    "%%capture\n",
    "ipmag.download_magic('Books1972_MagIC.txt',\n",
    "                     dir_path='../data/pmag_compiled/Books1972',\n",
    "                     input_dir_path='../data/pmag_compiled/Books1972',\n",
    "                     overwrite=True,print_progress=False)"
   ]
  },
  {
   "cell_type": "code",
   "execution_count": 51,
   "metadata": {},
   "outputs": [],
   "source": [
    "Books1972_sites = pd.read_csv('../data/pmag_compiled/Books1972/sites.txt',sep='\\t',header=1)\n",
    "Books1972_MN_sites = Books1972_sites[Books1972_sites.location == 'North Shore Volcanic Group:Minnesota']"
   ]
  },
  {
   "cell_type": "markdown",
   "metadata": {},
   "source": [
    "The Books 1972 sites can be divided by lithostratigraphic unit using the same codes as above."
   ]
  },
  {
   "cell_type": "code",
   "execution_count": 52,
   "metadata": {},
   "outputs": [],
   "source": [
    "nneu_nmil_sites_B72 = ['NS269','NS378','NS227']\n",
    "nneu_nkcr_sites_B72 = ['NS229','NS375']\n",
    "nneu_nrcb_sites_B72 = ['NS226']\n",
    "nneu_ncvb_sites_B72 = ['NS362','NS365']\n",
    "nneu_ngha_sites_B72 = ['NS367','NS265']\n",
    "nneu_ntpb_sites_B72 = ['NS368',\n",
    "                       'NS369',\n",
    "                       'NS374',\n",
    "                       'NS376',\n",
    "                       'NS377',\n",
    "                       'NS169',\n",
    "                       'NS170',\n",
    "                       'NS171']\n",
    "#Note that the Terrace Point Basalt is a single flow\n",
    "nneu_norl_sites_B72 = ['NS370',\n",
    "                       'NS371',\n",
    "                       'NS372']\n",
    "nsl_sites_B72 = ['NS264',\n",
    "                 'NS257',\n",
    "                 'NS258',\n",
    "                 'NS259',\n",
    "                 'NS260',\n",
    "                 'NS261',\n",
    "                 'NS262',\n",
    "                 'NS263',\n",
    "                 'NS256',\n",
    "                 'NS255',\n",
    "                 'NS254',\n",
    "                 'NS379',\n",
    "                 'NS380',\n",
    "                 'NS381',\n",
    "                 'NS382']\n",
    "\n",
    "nneu_B72_site_list = nneu_nmil_sites_B72 + nneu_nkcr_sites_B72 + nneu_nrcb_sites_B72 + nneu_ncvb_sites_B72 + nneu_ngha_sites_B72 + nneu_norl_sites_B72 \n",
    "nneu_data_B72 = Books1972_MN_sites.loc[Books1972_MN_sites['site'].isin(nneu_B72_site_list)]\n",
    "nsl_data_B72 = Books1972_MN_sites.loc[Books1972_MN_sites['site'].isin(nsl_sites_B72)]"
   ]
  },
  {
   "cell_type": "markdown",
   "metadata": {},
   "source": [
    "Given that the Terrace Point Basalt is a single flow and that Tauxe and Kodama (2009) also developed data from this flow, these data are not included in the upper Northeast sequence sites."
   ]
  },
  {
   "cell_type": "markdown",
   "metadata": {},
   "source": [
    "### Import Fairchild et al. (2017)\n",
    "\n",
    "Fairchild et al. (2017) developed data from Schroeder-Lutsen Basalt flows along the Two Island River in northern Minnesota that can be combined with data from Tauxe and Kodama (2009) in order to develop a pole for the Schroeder-Lutsen Basalts. This study also developed data for the Michipicoten Island Formation which are used below.\n",
    "\n",
    "Fairchild, L. M., Swanson-Hysell, N. L., Ramezani, J., Sprain, C. J., and Bowring, S. A., 2017, The end of Midcontinent Rift magmatism and the paleogeography of Laurentia: Lithosphere, vol. 9, pp. 117–133, doi:10.1130/L580.1.\n",
    "\n",
    "Link to MagIC contribution: http://earthref.org/MAGIC/doi/10.1130/L580.1"
   ]
  },
  {
   "cell_type": "code",
   "execution_count": 53,
   "metadata": {},
   "outputs": [],
   "source": [
    "%%capture\n",
    "ipmag.download_magic('magic_contribution_11883.txt',\n",
    "                     dir_path='../data/pmag_compiled/Fairchild2017',\n",
    "                     input_dir_path='../data/pmag_compiled/Fairchild2017',\n",
    "                     overwrite=True,print_progress=False,data_model=3.0)\n",
    "Fairchild2017_sites = pd.read_csv('../data/pmag_compiled/Fairchild2017/sites.txt',sep='\\t',header=1)"
   ]
  },
  {
   "cell_type": "code",
   "execution_count": 54,
   "metadata": {},
   "outputs": [],
   "source": [
    "Fairchild2017_SLB = Fairchild2017_sites[Fairchild2017_sites['location'] == 'Two Island River']\n",
    "Fairchild2017_SLB = Fairchild2017_SLB[Fairchild2017_SLB['dir_comp_name'] == 'mag']\n",
    "Fairchild2017_SLB = Fairchild2017_SLB[Fairchild2017_SLB['dir_tilt_correction'] == 100.0]"
   ]
  },
  {
   "cell_type": "markdown",
   "metadata": {},
   "source": [
    "### North Shore Volcanic Group northeast limb poles\n",
    "\n",
    "#### Grand Portage Basalts Pole\n",
    "\n",
    "The Grand Portage Basalts are reversed polarity lava flows in the lower portion of the lower northeast sequence of the North Shore Volcanic Group and are stratigraphically below the Red Rock Rhyolite. The Tauxe and Kodama (2009) data include one flow from the Grand Portage Basalts (ns024) and data from the overlying Deronda Bay Andesite (ns026) that is the flow below the  Red Rock Rhyolite and will be included here in the Grand Portage mean. Data from these flows are combined with the Grand Portage Basalt data from the Books (1968) study.\n",
    "\n",
    "We have developed a new U-Pb date from the Red Rock Rhyolite which provides an age of 1105.60 +/- 0.32 Ma. This age provides a minimum age constraint on the pole and it is likely close to the absolute pole age. "
   ]
  },
  {
   "cell_type": "code",
   "execution_count": 55,
   "metadata": {},
   "outputs": [
    {
     "name": "stdout",
     "output_type": "stream",
     "text": [
      "Plon: 201.7  Plat: 46.0\n",
      "Number of directions in mean (n): 13\n",
      "Angular radius of 95% confidence (A_95): 6.8\n",
      "Precision parameter (k) estimate: 38.3\n"
     ]
    }
   ],
   "source": [
    "Books1968_vgps = ipmag.make_di_block(Books1968_ngpb_sites.vgp_lon.tolist(),\n",
    "                                     Books1968_ngpb_sites.vgp_lat.tolist())\n",
    "NSVG_nnel_vgps_r = ipmag.make_di_block(nnel_data.vgp_lon.tolist(),\n",
    "                                     nnel_data.vgp_lat.tolist())\n",
    "NSVG_nnel_vgps = ipmag.do_flip(di_block=NSVG_nnel_vgps_r)\n",
    "Grand_Portage_vgps = Books1968_vgps + NSVG_nnel_vgps\n",
    "Grand_Portage_mean=pmag.fisher_mean(Grand_Portage_vgps)\n",
    "ipmag.print_pole_mean(Grand_Portage_mean)"
   ]
  },
  {
   "cell_type": "code",
   "execution_count": 56,
   "metadata": {},
   "outputs": [],
   "source": [
    "pole_means.loc['Grand Portage Basalts'] = pd.Series({'PoleName' : 'Grand Portage Basalts',\n",
    "                                        'SLat' : 47.93,\n",
    "                                        'SLon' : 270.28,\n",
    "                                        'PLat' : round(Grand_Portage_mean['inc'],1),\n",
    "                                        'PLon' : round(Grand_Portage_mean['dec'],1),\n",
    "                                        'A95' : round(Grand_Portage_mean['alpha95'],1),\n",
    "                                        'K' : round(Grand_Portage_mean['k'],1),\n",
    "                                        'N' : int(Grand_Portage_mean['n']),\n",
    "                                        'PolarityZone' : 'Alona Bay reversed-polarity zone',\n",
    "                                        'PmagRef' : 'Books, 1968; Tauxe and Kodama, 2009',\n",
    "                                        'AgeNominal' : 1106,\n",
    "                                        'AgeLower' : 1105.28,\n",
    "                                        'AgeUpper' : 1108,\n",
    "                                        'AgeInfo' : 'Close to, but slightly older than, $^{\\mathrm{206}}$Pb/$^{\\mathrm{238}}$U 1105.60 $\\pm$ 0.32 Ma based on date from Red Rock Rhyolite',\n",
    "                                        'AgeRef' : 'this study',\n",
    "                                        'GaussianOrUniform' : 'uniform',\n",
    "                                        'Q' : '5',\n",
    "                                        'color' : '#E0785F'})"
   ]
  },
  {
   "cell_type": "markdown",
   "metadata": {},
   "source": [
    "#### North Shore Volcanic Group upper northeast limb pole"
   ]
  },
  {
   "cell_type": "code",
   "execution_count": 57,
   "metadata": {},
   "outputs": [
    {
     "name": "stdout",
     "output_type": "stream",
     "text": [
      "Plon: 181.7  Plat: 31.1\n",
      "Number of directions in mean (n): 28\n",
      "Angular radius of 95% confidence (A_95): 4.2\n",
      "Precision parameter (k) estimate: 42.2\n"
     ]
    }
   ],
   "source": [
    "nneu_combined_vgp_lon = nneu_data_B72.vgp_lon.tolist() + nneu_data.vgp_lon.tolist()\n",
    "nneu_combined_vgp_lat = nneu_data_B72.vgp_lat.tolist() + nneu_data.vgp_lat.tolist()\n",
    "\n",
    "\n",
    "nneu_VGPs = ipmag.make_di_block(nneu_combined_vgp_lon,\n",
    "                                nneu_combined_vgp_lat)\n",
    "nneu_mean=pmag.fisher_mean(nneu_VGPs)\n",
    "ipmag.print_pole_mean(nneu_mean)"
   ]
  },
  {
   "cell_type": "code",
   "execution_count": 58,
   "metadata": {},
   "outputs": [
    {
     "name": "stdout",
     "output_type": "stream",
     "text": [
      "Dec: 291.3  Inc: 40.3\n",
      "Number of directions in mean (n): 28\n",
      "Angular radius of 95% confidence (a_95): 4.9\n",
      "Precision parameter (k) estimate: 32.1\n"
     ]
    }
   ],
   "source": [
    "nneu_combined_dir_dec = nneu_data_B72.dir_dec.tolist() + nneu_data.average_dec.tolist()\n",
    "nneu_combined_dir_inc = nneu_data_B72.dir_inc.tolist() + nneu_data.average_inc.tolist()\n",
    "\n",
    "\n",
    "nneu_dirs = ipmag.make_di_block(nneu_combined_dir_dec,\n",
    "                                nneu_combined_dir_inc)\n",
    "nneu_mean=pmag.fisher_mean(nneu_dirs)\n",
    "ipmag.print_direction_mean(nneu_mean)"
   ]
  },
  {
   "cell_type": "code",
   "execution_count": 60,
   "metadata": {},
   "outputs": [],
   "source": [
    "pole_means.loc['NSVG_nneu'] = pd.Series({'PoleName' : 'North Shore Volcanic Group (upper NE sequence)',\n",
    "                                        'SLat' : round(nneu_data_B72.lat.tolist()[0],2),\n",
    "                                        'SLon' : 360+round(nneu_data_B72.lon.tolist()[0],2),\n",
    "                                        'PLat' : round(nneu_mean['inc'],1),\n",
    "                                        'PLon' : round(nneu_mean['dec'],1),\n",
    "                                        'A95' : round(nneu_mean['alpha95'],1),\n",
    "                                        'K' : round(nneu_mean['k'],1),\n",
    "                                        'N' : int(nneu_mean['n']),\n",
    "                                        'PolarityZone' : 'Portage Lake normal-polarity zone',\n",
    "                                        'PmagRef' : 'Books, 1972; Tauxe and Kodama, 2009',\n",
    "                                        'AgeNominal' : 1095,\n",
    "                                        'AgeLower' : 1092,\n",
    "                                        'AgeUpper' : 1098,\n",
    "                                        'AgeInfo' : \"Younger than the the Devil's Kettle Rhyolite $^{\\mathrm{207}}$Pb/$^{\\mathrm{206}}$Pb date of 1097.7 $\\pm$ 2.2 Ma, the new $^{\\mathrm{206}}$Pb/$^{\\mathrm{238}}$U 1093.38 $\\pm$ 0.55 Ma date from the Grand Marais Rhyolite is near the top of the sequence with paleomagnetic data\",\n",
    "                                        'AgeRef' : 'Davis and Green, 1997; Fairchild et al., 2017',\n",
    "                                        'GaussianOrUniform' : 'uniform',\n",
    "                                        'Q' : '6',\n",
    "                                        'color' : '#35474E'})"
   ]
  },
  {
   "cell_type": "markdown",
   "metadata": {},
   "source": [
    "### North Shore Volcanic Group southwest limb pole\n",
    "\n",
    "#### Import new Gooseberry Basalts data"
   ]
  },
  {
   "cell_type": "code",
   "execution_count": 63,
   "metadata": {},
   "outputs": [
    {
     "data": {
      "text/html": [
       "<div>\n",
       "<style scoped>\n",
       "    .dataframe tbody tr th:only-of-type {\n",
       "        vertical-align: middle;\n",
       "    }\n",
       "\n",
       "    .dataframe tbody tr th {\n",
       "        vertical-align: top;\n",
       "    }\n",
       "\n",
       "    .dataframe thead th {\n",
       "        text-align: right;\n",
       "    }\n",
       "</style>\n",
       "<table border=\"1\" class=\"dataframe\">\n",
       "  <thead>\n",
       "    <tr style=\"text-align: right;\">\n",
       "      <th></th>\n",
       "      <th>age</th>\n",
       "      <th>age_high</th>\n",
       "      <th>age_low</th>\n",
       "      <th>age_sigma</th>\n",
       "      <th>age_unit</th>\n",
       "      <th>citations</th>\n",
       "      <th>criteria</th>\n",
       "      <th>dir_alpha95</th>\n",
       "      <th>dir_comp_name</th>\n",
       "      <th>dir_dec</th>\n",
       "      <th>dir_inc</th>\n",
       "      <th>dir_k</th>\n",
       "      <th>dir_n_samples</th>\n",
       "      <th>dir_n_specimens</th>\n",
       "      <th>dir_n_specimens_lines</th>\n",
       "      <th>dir_n_specimens_planes</th>\n",
       "      <th>dir_polarity</th>\n",
       "      <th>dir_r</th>\n",
       "      <th>dir_tilt_correction</th>\n",
       "      <th>lat</th>\n",
       "      <th>location</th>\n",
       "      <th>lon</th>\n",
       "      <th>method_codes</th>\n",
       "      <th>result_quality</th>\n",
       "      <th>result_type</th>\n",
       "      <th>samples</th>\n",
       "      <th>site</th>\n",
       "      <th>software_packages</th>\n",
       "      <th>specimens</th>\n",
       "      <th>vgp_dm</th>\n",
       "      <th>vgp_dp</th>\n",
       "      <th>vgp_lat</th>\n",
       "      <th>vgp_lon</th>\n",
       "    </tr>\n",
       "  </thead>\n",
       "  <tbody>\n",
       "    <tr>\n",
       "      <th>1</th>\n",
       "      <td>1095.25</td>\n",
       "      <td>1095.8</td>\n",
       "      <td>1094.7</td>\n",
       "      <td>0.55</td>\n",
       "      <td>Years Cal BP</td>\n",
       "      <td>This study</td>\n",
       "      <td>ACCEPT</td>\n",
       "      <td>4.5</td>\n",
       "      <td>HT</td>\n",
       "      <td>299.4</td>\n",
       "      <td>47.9</td>\n",
       "      <td>154</td>\n",
       "      <td>8</td>\n",
       "      <td>8</td>\n",
       "      <td>8</td>\n",
       "      <td>0</td>\n",
       "      <td>n</td>\n",
       "      <td>7.9545</td>\n",
       "      <td>100</td>\n",
       "      <td>47.2</td>\n",
       "      <td>Gooseberry</td>\n",
       "      <td>-91.5</td>\n",
       "      <td>LP-DIR-T:DE-BFL:DA-DIR-TILT:LP-DC4:DE-FM:DA-DIR-GEO</td>\n",
       "      <td>g</td>\n",
       "      <td>i</td>\n",
       "      <td>GB1-1:GB1-2:GB1-3:GB1-4:GB1-5:GB1-6:GB1-7:GB1-8</td>\n",
       "      <td>GB1</td>\n",
       "      <td>pmagpy-3.8.9-2: demag_gui.v.3.0</td>\n",
       "      <td>GB1-1a:GB1-2a:GB1-3a:GB1-4a:GB1-5a:GB1-6a:GB1-7a:GB1-8a</td>\n",
       "      <td>5.9</td>\n",
       "      <td>3.8</td>\n",
       "      <td>40.3</td>\n",
       "      <td>179.5</td>\n",
       "    </tr>\n",
       "    <tr>\n",
       "      <th>3</th>\n",
       "      <td>1095.25</td>\n",
       "      <td>1095.8</td>\n",
       "      <td>1094.7</td>\n",
       "      <td>0.55</td>\n",
       "      <td>Years Cal BP</td>\n",
       "      <td>This study</td>\n",
       "      <td>ACCEPT</td>\n",
       "      <td>2.2</td>\n",
       "      <td>HT</td>\n",
       "      <td>301.1</td>\n",
       "      <td>42.1</td>\n",
       "      <td>466</td>\n",
       "      <td>10</td>\n",
       "      <td>10</td>\n",
       "      <td>10</td>\n",
       "      <td>0</td>\n",
       "      <td>n</td>\n",
       "      <td>9.9807</td>\n",
       "      <td>100</td>\n",
       "      <td>47.1</td>\n",
       "      <td>Gooseberry</td>\n",
       "      <td>-91.5</td>\n",
       "      <td>LP-DIR-T:DE-BFL:DA-DIR-TILT:LP-DC4:DE-FM:DA-DIR-GEO</td>\n",
       "      <td>g</td>\n",
       "      <td>i</td>\n",
       "      <td>GB10-10:GB10-1:GB10-2:GB10-3:GB10-4:GB10-5:GB10-6:GB10-7:GB10-8:GB10-9</td>\n",
       "      <td>GB10</td>\n",
       "      <td>pmagpy-3.8.9-2: demag_gui.v.3.0</td>\n",
       "      <td>GB10-10a:GB10-1a:GB10-2a:GB10-3a:GB10-4a:GB10-5a:GB10-6a:GB10-7a:GB10-8a:GB10-9a</td>\n",
       "      <td>2.7</td>\n",
       "      <td>1.7</td>\n",
       "      <td>38.5</td>\n",
       "      <td>173.8</td>\n",
       "    </tr>\n",
       "    <tr>\n",
       "      <th>5</th>\n",
       "      <td>1095.25</td>\n",
       "      <td>1095.8</td>\n",
       "      <td>1094.7</td>\n",
       "      <td>0.55</td>\n",
       "      <td>Years Cal BP</td>\n",
       "      <td>This study</td>\n",
       "      <td>ACCEPT</td>\n",
       "      <td>4.7</td>\n",
       "      <td>HT</td>\n",
       "      <td>303.2</td>\n",
       "      <td>38.3</td>\n",
       "      <td>168</td>\n",
       "      <td>7</td>\n",
       "      <td>7</td>\n",
       "      <td>7</td>\n",
       "      <td>0</td>\n",
       "      <td>n</td>\n",
       "      <td>6.9643</td>\n",
       "      <td>100</td>\n",
       "      <td>47.1</td>\n",
       "      <td>Gooseberry</td>\n",
       "      <td>-91.5</td>\n",
       "      <td>LP-DIR-T:DE-BFL:DA-DIR-TILT:LP-DC4:DE-FM:DA-DIR-GEO</td>\n",
       "      <td>g</td>\n",
       "      <td>i</td>\n",
       "      <td>GB11-1:GB11-2:GB11-3:GB11-4:GB11-7:GB11-8:GB11-9</td>\n",
       "      <td>GB11</td>\n",
       "      <td>pmagpy-3.8.9-2: demag_gui.v.3.0</td>\n",
       "      <td>GB11-1a:GB11-2a:GB11-3a:GB11-4a:GB11-7a:GB11-8a:GB11-9a</td>\n",
       "      <td>5.6</td>\n",
       "      <td>3.3</td>\n",
       "      <td>38.0</td>\n",
       "      <td>169.5</td>\n",
       "    </tr>\n",
       "    <tr>\n",
       "      <th>7</th>\n",
       "      <td>1095.25</td>\n",
       "      <td>1095.8</td>\n",
       "      <td>1094.7</td>\n",
       "      <td>0.55</td>\n",
       "      <td>Years Cal BP</td>\n",
       "      <td>This study</td>\n",
       "      <td>ACCEPT</td>\n",
       "      <td>1.8</td>\n",
       "      <td>HT</td>\n",
       "      <td>303.0</td>\n",
       "      <td>41.0</td>\n",
       "      <td>1112</td>\n",
       "      <td>7</td>\n",
       "      <td>7</td>\n",
       "      <td>7</td>\n",
       "      <td>0</td>\n",
       "      <td>n</td>\n",
       "      <td>6.9946</td>\n",
       "      <td>100</td>\n",
       "      <td>47.1</td>\n",
       "      <td>Gooseberry</td>\n",
       "      <td>-91.5</td>\n",
       "      <td>LP-DIR-T:DE-BFL:DA-DIR-TILT:LP-DC4:DE-FM:DA-DIR-GEO</td>\n",
       "      <td>g</td>\n",
       "      <td>i</td>\n",
       "      <td>GB12-1:GB12-2:GB12-3:GB12-5:GB12-6:GB12-7:GB12-8</td>\n",
       "      <td>GB12</td>\n",
       "      <td>pmagpy-3.8.9-2: demag_gui.v.3.0</td>\n",
       "      <td>GB12-1a:GB12-2a:GB12-3a:GB12-5a:GB12-6a:GB12-7a:GB12-8a</td>\n",
       "      <td>2.2</td>\n",
       "      <td>1.3</td>\n",
       "      <td>39.2</td>\n",
       "      <td>171.5</td>\n",
       "    </tr>\n",
       "    <tr>\n",
       "      <th>9</th>\n",
       "      <td>1095.25</td>\n",
       "      <td>1095.8</td>\n",
       "      <td>1094.7</td>\n",
       "      <td>0.55</td>\n",
       "      <td>Years Cal BP</td>\n",
       "      <td>This study</td>\n",
       "      <td>ACCEPT</td>\n",
       "      <td>2.0</td>\n",
       "      <td>HT</td>\n",
       "      <td>295.1</td>\n",
       "      <td>42.3</td>\n",
       "      <td>742</td>\n",
       "      <td>8</td>\n",
       "      <td>8</td>\n",
       "      <td>8</td>\n",
       "      <td>0</td>\n",
       "      <td>t</td>\n",
       "      <td>7.9906</td>\n",
       "      <td>100</td>\n",
       "      <td>47.1</td>\n",
       "      <td>Gooseberry</td>\n",
       "      <td>-91.5</td>\n",
       "      <td>LP-DIR-T:DE-BFL:DA-DIR-TILT:LP-DC4:DE-FM:DA-DIR-GEO</td>\n",
       "      <td>g</td>\n",
       "      <td>i</td>\n",
       "      <td>GB13-1:GB13-2:GB13-3:GB13-4:GB13-5:GB13-6:GB13-7:GB13-8</td>\n",
       "      <td>GB13</td>\n",
       "      <td>pmagpy-3.8.9-2: demag_gui.v.3.0</td>\n",
       "      <td>GB13-1a:GB13-2a:GB13-3a:GB13-4a:GB13-5a:GB13-6a:GB13-7a:GB13-8a</td>\n",
       "      <td>2.5</td>\n",
       "      <td>1.5</td>\n",
       "      <td>34.5</td>\n",
       "      <td>178.4</td>\n",
       "    </tr>\n",
       "  </tbody>\n",
       "</table>\n",
       "</div>"
      ],
      "text/plain": [
       "       age  age_high  age_low  age_sigma      age_unit   citations criteria  \\\n",
       "1  1095.25  1095.8    1094.7   0.55       Years Cal BP  This study  ACCEPT    \n",
       "3  1095.25  1095.8    1094.7   0.55       Years Cal BP  This study  ACCEPT    \n",
       "5  1095.25  1095.8    1094.7   0.55       Years Cal BP  This study  ACCEPT    \n",
       "7  1095.25  1095.8    1094.7   0.55       Years Cal BP  This study  ACCEPT    \n",
       "9  1095.25  1095.8    1094.7   0.55       Years Cal BP  This study  ACCEPT    \n",
       "\n",
       "   dir_alpha95 dir_comp_name  dir_dec  dir_inc  dir_k  dir_n_samples  \\\n",
       "1  4.5          HT            299.4    47.9     154    8               \n",
       "3  2.2          HT            301.1    42.1     466    10              \n",
       "5  4.7          HT            303.2    38.3     168    7               \n",
       "7  1.8          HT            303.0    41.0     1112   7               \n",
       "9  2.0          HT            295.1    42.3     742    8               \n",
       "\n",
       "   dir_n_specimens  dir_n_specimens_lines  dir_n_specimens_planes  \\\n",
       "1  8                8                      0                        \n",
       "3  10               10                     0                        \n",
       "5  7                7                      0                        \n",
       "7  7                7                      0                        \n",
       "9  8                8                      0                        \n",
       "\n",
       "  dir_polarity   dir_r  dir_tilt_correction   lat    location   lon  \\\n",
       "1  n            7.9545  100                  47.2  Gooseberry -91.5   \n",
       "3  n            9.9807  100                  47.1  Gooseberry -91.5   \n",
       "5  n            6.9643  100                  47.1  Gooseberry -91.5   \n",
       "7  n            6.9946  100                  47.1  Gooseberry -91.5   \n",
       "9  t            7.9906  100                  47.1  Gooseberry -91.5   \n",
       "\n",
       "                                          method_codes result_quality  \\\n",
       "1  LP-DIR-T:DE-BFL:DA-DIR-TILT:LP-DC4:DE-FM:DA-DIR-GEO  g               \n",
       "3  LP-DIR-T:DE-BFL:DA-DIR-TILT:LP-DC4:DE-FM:DA-DIR-GEO  g               \n",
       "5  LP-DIR-T:DE-BFL:DA-DIR-TILT:LP-DC4:DE-FM:DA-DIR-GEO  g               \n",
       "7  LP-DIR-T:DE-BFL:DA-DIR-TILT:LP-DC4:DE-FM:DA-DIR-GEO  g               \n",
       "9  LP-DIR-T:DE-BFL:DA-DIR-TILT:LP-DC4:DE-FM:DA-DIR-GEO  g               \n",
       "\n",
       "  result_type  \\\n",
       "1  i            \n",
       "3  i            \n",
       "5  i            \n",
       "7  i            \n",
       "9  i            \n",
       "\n",
       "                                                                  samples  \\\n",
       "1  GB1-1:GB1-2:GB1-3:GB1-4:GB1-5:GB1-6:GB1-7:GB1-8                          \n",
       "3  GB10-10:GB10-1:GB10-2:GB10-3:GB10-4:GB10-5:GB10-6:GB10-7:GB10-8:GB10-9   \n",
       "5  GB11-1:GB11-2:GB11-3:GB11-4:GB11-7:GB11-8:GB11-9                         \n",
       "7  GB12-1:GB12-2:GB12-3:GB12-5:GB12-6:GB12-7:GB12-8                         \n",
       "9  GB13-1:GB13-2:GB13-3:GB13-4:GB13-5:GB13-6:GB13-7:GB13-8                  \n",
       "\n",
       "   site                software_packages  \\\n",
       "1  GB1   pmagpy-3.8.9-2: demag_gui.v.3.0   \n",
       "3  GB10  pmagpy-3.8.9-2: demag_gui.v.3.0   \n",
       "5  GB11  pmagpy-3.8.9-2: demag_gui.v.3.0   \n",
       "7  GB12  pmagpy-3.8.9-2: demag_gui.v.3.0   \n",
       "9  GB13  pmagpy-3.8.9-2: demag_gui.v.3.0   \n",
       "\n",
       "                                                                          specimens  \\\n",
       "1  GB1-1a:GB1-2a:GB1-3a:GB1-4a:GB1-5a:GB1-6a:GB1-7a:GB1-8a                            \n",
       "3  GB10-10a:GB10-1a:GB10-2a:GB10-3a:GB10-4a:GB10-5a:GB10-6a:GB10-7a:GB10-8a:GB10-9a   \n",
       "5  GB11-1a:GB11-2a:GB11-3a:GB11-4a:GB11-7a:GB11-8a:GB11-9a                            \n",
       "7  GB12-1a:GB12-2a:GB12-3a:GB12-5a:GB12-6a:GB12-7a:GB12-8a                            \n",
       "9  GB13-1a:GB13-2a:GB13-3a:GB13-4a:GB13-5a:GB13-6a:GB13-7a:GB13-8a                    \n",
       "\n",
       "   vgp_dm  vgp_dp  vgp_lat  vgp_lon  \n",
       "1  5.9     3.8     40.3     179.5    \n",
       "3  2.7     1.7     38.5     173.8    \n",
       "5  5.6     3.3     38.0     169.5    \n",
       "7  2.2     1.3     39.2     171.5    \n",
       "9  2.5     1.5     34.5     178.4    "
      ]
     },
     "execution_count": 63,
     "metadata": {},
     "output_type": "execute_result"
    }
   ],
   "source": [
    "GB_Data = pd.read_csv('../data/pmag_compiled/Swanson-Hysell2019a/Gooseberry/sites.txt',sep='\\t',skiprows=1)\n",
    "GB_Data_tc = GB_Data[GB_Data['dir_tilt_correction'] == 100.0]\n",
    "GB_Data_HT = GB_Data[GB_Data['dir_comp_name'] == 'HT']\n",
    "GB_Data_HT = GB_Data_HT[GB_Data_HT['dir_tilt_correction'] == 100.0]\n",
    "GB_Data_HT.head()"
   ]
  },
  {
   "cell_type": "markdown",
   "metadata": {},
   "source": [
    "The site means all form a coherent cluster with the exception of the GB5 site mean which is north and up in orientation rather than NE and down. We interpret this flow to be recording an excursion and therefore exclude it from the calculation of a new pole."
   ]
  },
  {
   "cell_type": "code",
   "execution_count": 65,
   "metadata": {},
   "outputs": [],
   "source": [
    "GB_Data_HT_filtered = GB_Data_HT[GB_Data_HT.site != 'GB5']"
   ]
  },
  {
   "cell_type": "code",
   "execution_count": 66,
   "metadata": {},
   "outputs": [
    {
     "name": "stdout",
     "output_type": "stream",
     "text": [
      "Plon: 174.9  Plat: 38.4\n",
      "Number of directions in mean (n): 31\n",
      "Angular radius of 95% confidence (A_95): 2.3\n",
      "Precision parameter (k) estimate: 125.8\n"
     ]
    }
   ],
   "source": [
    "GB_mean_pole = ipmag.fisher_mean(GB_Data_HT_filtered['vgp_lon'].tolist(),GB_Data_HT_filtered['vgp_lat'].tolist())\n",
    "ipmag.print_pole_mean(GB_mean_pole)"
   ]
  },
  {
   "cell_type": "markdown",
   "metadata": {},
   "source": [
    "#### Combine data for North Shore Volcanic Group upper southwest limb pole\n",
    "\n",
    "The North Shore Volcanic Group (NSVG) is comprised of two main limbs with distinct stratigraphy and radiometric age control. The southwest limb of the NSVG ('nswu') was particularly well-sampled by Tauxe and Kodama (2009) and we now add data from 31 additional flows of the Gooseberry Basalts. All of these sites can be bracketed with U-Pb dates from the Lakewood icelandite and the Palisade rhyolite."
   ]
  },
  {
   "cell_type": "code",
   "execution_count": 67,
   "metadata": {},
   "outputs": [
    {
     "name": "stdout",
     "output_type": "stream",
     "text": [
      "Plon: 179.3  Plat: 36.9\n",
      "Number of directions in mean (n): 78\n",
      "Angular radius of 95% confidence (A_95): 2.1\n",
      "Precision parameter (k) estimate: 56.8\n"
     ]
    }
   ],
   "source": [
    "nswu_vgp_lons = nswu_data.vgp_lon.tolist() + GB_Data_HT_filtered.vgp_lon.tolist()\n",
    "nswu_vgp_lats = nswu_data.vgp_lat.tolist() + GB_Data_HT_filtered.vgp_lat.tolist()\n",
    "\n",
    "nswu_VGPs = ipmag.make_di_block(nswu_vgp_lons,nswu_vgp_lats)\n",
    "nswu_mean=pmag.fisher_mean(nswu_VGPs)\n",
    "ipmag.print_pole_mean(nswu_mean)"
   ]
  },
  {
   "cell_type": "code",
   "execution_count": 68,
   "metadata": {},
   "outputs": [],
   "source": [
    "pole_means.loc['NSVG_nswu'] = pd.Series({'PoleName' : 'North Shore Volcanic Group (upper SW sequence)',\n",
    "                                        'SLat' : round(GB_Data_HT.lat.tolist()[0],2),\n",
    "                                        'SLon' : round((360+GB_Data_HT.lon.tolist()[0]),2),\n",
    "                                        'PLat' : round(nswu_mean['inc'],1),\n",
    "                                        'PLon' : round(nswu_mean['dec'],1),\n",
    "                                        'A95' : round(nswu_mean['alpha95'],1),\n",
    "                                        'K' : round(nswu_mean['k'],1),\n",
    "                                        'N' : int(nswu_mean['n']),\n",
    "                                        'PolarityZone' : 'Portage Lake normal-polarity zone',\n",
    "                                        'PmagRef' : 'Tauxe and Kodama, 2009; this study',\n",
    "                                        'AgeNominal' : 1096.18,\n",
    "                                        'AgeLower' : 1093.94,\n",
    "                                        'AgeUpper' : 1096.75,\n",
    "                                        'AgeInfo' : '$^{\\mathrm{206}}$Pb/$^{\\mathrm{238}}$U date on 40th Ave. Icelandite (1096.75 $\\pm$ 0.28) provides a lower bound, the $^{\\mathrm{206}}$Pb/$^{\\mathrm{238}}$U date on the Two Harbors Icelandite is within the sequence (1096.18 $\\pm$ 0.32) and the Palisade Rhyolite (1093.94 $\\pm$ 0.28) provides an upper bound',\n",
    "                                        'AgeRef' : 'this study',\n",
    "                                        'GaussianOrUniform' : 'gaussian',\n",
    "                                        'Gaussian_2sigma' : round(((1096.18-1093.94)/2),2),\n",
    "                                        'Q' : '6',\n",
    "                                        'color' : '#154F8D'})"
   ]
  },
  {
   "cell_type": "markdown",
   "metadata": {},
   "source": [
    "###  Schroeder Lutsen Basalts\n",
    "\n",
    "The pole published for the Schroeder-Lutsen Basalts in Fairchild et al., 2017 combined data from 40 new sites with data from 10 sites within the basalts developed by Tauxe and Kodama (2009)."
   ]
  },
  {
   "cell_type": "code",
   "execution_count": 69,
   "metadata": {},
   "outputs": [
    {
     "name": "stdout",
     "output_type": "stream",
     "text": [
      "Plon: 188.0  Plat: 26.9\n",
      "Number of directions in mean (n): 50\n",
      "Angular radius of 95% confidence (A_95): 3.0\n",
      "Precision parameter (k) estimate: 45.4\n"
     ]
    }
   ],
   "source": [
    "combined_SLB_lon = nsl_data['vgp_lon'].tolist() + Fairchild2017_SLB['vgp_lon'].tolist()\n",
    "combined_SLB_lat = nsl_data['vgp_lat'].tolist() + Fairchild2017_SLB['vgp_lat'].tolist()\n",
    "SLB_pole = ipmag.fisher_mean(combined_SLB_lon,combined_SLB_lat)\n",
    "ipmag.print_pole_mean(SLB_pole)"
   ]
  },
  {
   "cell_type": "markdown",
   "metadata": {},
   "source": [
    "In addition to the sites in the pole above, sites were developed by Books (1972) from the Schroeder-Lutsen Basalts that can be added to the pole."
   ]
  },
  {
   "cell_type": "code",
   "execution_count": 70,
   "metadata": {},
   "outputs": [
    {
     "name": "stdout",
     "output_type": "stream",
     "text": [
      "Plon: 187.6  Plat: 28.3\n",
      "Number of directions in mean (n): 65\n",
      "Angular radius of 95% confidence (A_95): 2.5\n",
      "Precision parameter (k) estimate: 50.5\n"
     ]
    }
   ],
   "source": [
    "combined_SLB_lon_new = nsl_data['vgp_lon'].tolist() + Fairchild2017_SLB['vgp_lon'].tolist() + nsl_data_B72['vgp_lon'].tolist()\n",
    "combined_SLB_lat_new = nsl_data['vgp_lat'].tolist() + Fairchild2017_SLB['vgp_lat'].tolist() + nsl_data_B72['vgp_lat'].tolist()\n",
    "SLB_pole_new = ipmag.fisher_mean(combined_SLB_lon_new,combined_SLB_lat_new)\n",
    "ipmag.print_pole_mean(SLB_pole_new)"
   ]
  },
  {
   "cell_type": "code",
   "execution_count": 71,
   "metadata": {},
   "outputs": [],
   "source": [
    "pole_means.loc['SLB'] = pd.Series({'PoleName' : 'Schroeder Lutsen Basalts',\n",
    "                                        'SLat' : 47.54,\n",
    "                                        'SLon' : 269.10,\n",
    "                                        'PLat' : round(SLB_pole_new['inc'],1),\n",
    "                                        'PLon' : round(SLB_pole_new['dec'],1),\n",
    "                                        'A95' : round(SLB_pole_new['alpha95'],1),\n",
    "                                        'K' : round(SLB_pole_new['k'],1),\n",
    "                                        'N' : int(SLB_pole_new['n']),\n",
    "                                        'PolarityZone' : 'Portage Lake normal-polarity zone',\n",
    "                                        'PmagRef' : 'Books, 1972; Tauxe and Kodama, 2009; Fairchild et al., 2017',\n",
    "                                        'AgeNominal' : 1090,\n",
    "                                        'AgeLower' : 1085,\n",
    "                                        'AgeUpper' : 1091.5,\n",
    "                                        'AgeInfo' : '$^{\\mathrm{206}}$Pb/$^{\\mathrm{238}}$U date of of 1091.48 $\\pm$ 0.21 Ma on Beaver Bay Complex aplite provides maximum age constraint',\n",
    "                                        'AgeRef' : 'Fairchild et al., 2017',\n",
    "                                        'GaussianOrUniform' : 'uniform',\n",
    "                                        'Q' : '6',\n",
    "                                        'color' : '#8DC2DC'})"
   ]
  },
  {
   "cell_type": "markdown",
   "metadata": {},
   "source": [
    "## Portage Lake Volcanics and Lake Shore Traps\n",
    "\n",
    "Books (1972) and Hnat et al. (2006) published paleomagnetic data from the lava flows of the Portage Lake Volcanics. We seek to calculate a pole from these data that are constrained by our new dates from the Copper City Flow and the Greenstone Flow. These stratigraphic position of the sites needs to be considered in order to select such sites. Additionally, flows such as the Greenstone Flow were sampled repeatedly by Books (1972) and Hnat et al. (2006). Such data need to be combined such that data from an individual cooling units are not considered as multiple sites for the calculation of the poel.  "
   ]
  },
  {
   "cell_type": "markdown",
   "metadata": {},
   "source": [
    "### Books (1972) data\n",
    "\n",
    "The data from Books (1972) was unpacked from the MagIC database file above and below the data from the Portage Lake Volcanics are extracted from that site level data."
   ]
  },
  {
   "cell_type": "code",
   "execution_count": 72,
   "metadata": {},
   "outputs": [],
   "source": [
    "Books1972_PLV_sites = Books1972_sites[Books1972_sites.formation == 'Portage Lake Volcanics']"
   ]
  },
  {
   "cell_type": "markdown",
   "metadata": {},
   "source": [
    "### Import Hnat et al. (2006)\n",
    "\n",
    "The data from Hnat et al. (2006) can be unpacked from the MagIC database file.\n",
    "\n",
    "Hnat, J. S., van der Pluijm, B. A., and Van der Voo, R., 2006, Primary curvature in the Mid-Continent Rift: Paleomagnetism of the Portage Lake Volcanics (northern Michigan, USA): Tectonophysics, vol. 425, pp. 71–82, doi:10.1016/j.tecto.2006.07.006.\n",
    "\n",
    "Link to MagIC contribution: http://earthref.org/MAGIC/doi/10.1016/j.tecto.2006.07.006"
   ]
  },
  {
   "cell_type": "code",
   "execution_count": 73,
   "metadata": {},
   "outputs": [],
   "source": [
    "%%capture\n",
    "ipmag.download_magic('Hnat2006_MagIC.txt',\n",
    "                     dir_path='../data/pmag_compiled/Hnat2006',\n",
    "                     input_dir_path='../data/pmag_compiled/Hnat2006',\n",
    "                     overwrite=True,print_progress=False)"
   ]
  },
  {
   "cell_type": "code",
   "execution_count": 74,
   "metadata": {},
   "outputs": [],
   "source": [
    "Hnat2006_sites = pd.read_csv('../data/pmag_compiled/Hnat2006/sites.txt',sep='\\t',header=1)"
   ]
  },
  {
   "cell_type": "code",
   "execution_count": 75,
   "metadata": {
    "code_folding": []
   },
   "outputs": [],
   "source": [
    "#Flows between CC and GS inclusive of the CC flow\n",
    "PLV_CCtoGS = ['PL343',\n",
    "              'PL61',\n",
    "              'PL325',\n",
    "              'PL60',\n",
    "              'PL58',\n",
    "              'PL57',\n",
    "              'PL60',\n",
    "              'PL327',\n",
    "              'PL326',\n",
    "              'PL56',\n",
    "              'PL55',\n",
    "              'PL324',\n",
    "              'PL53',\n",
    "              'PL323',\n",
    "              'PL52',\n",
    "              'PL330',\n",
    "              'PL51',\n",
    "              'PL344',\n",
    "              'PL331',\n",
    "              'PL50',\n",
    "              'PL150',\n",
    "              'PL1',\n",
    "              'PL3',\n",
    "              'PL6',\n",
    "              'PL5',\n",
    "              'PL4',\n",
    "              'PL7',\n",
    "              'PL35',\n",
    "              'PL158',\n",
    "              'PL160',\n",
    "              'PL159',\n",
    "              'PL157'\n",
    "              'PL154',\n",
    "              'PL153']\n",
    "        \n",
    "              \n",
    "#Kearsarge Flow is between CC and GS and has two books sites within it\n",
    "PLV_Kearsarge = ['PL54',\n",
    "                 'PL335']\n",
    "\n",
    "#Scales Creek Flow is between CC and GS and has two books sites within it\n",
    "PLV_Scales = ['PL59',\n",
    "              'PL341']\n",
    "\n",
    "#There are many Books sites within the Greenstone Flow\n",
    "PLV_GS = ['PL34',\n",
    "          'PL33',\n",
    "          'PL32'\n",
    "          'PL345',\n",
    "          'PL346',\n",
    "          'PL347',\n",
    "          'PL348',\n",
    "          'PL349']\n",
    "\n",
    "#PLV flows between the GS flow and Conglomerate No. 16 (all within ~1000 ft)\n",
    "PLV_GS_16 = ['PL8',\n",
    "             'PL9',\n",
    "             'PL10',\n",
    "             'PL11',\n",
    "             'PL12',\n",
    "             'PL13',\n",
    "             'PL14',\n",
    "             'PL19',\n",
    "             'PL20',\n",
    "             'PL22',\n",
    "             'PL24',\n",
    "             'PL25',\n",
    "             'PL26',\n",
    "             'PL27'] \n",
    "\n",
    "#PLV flows above Conglomerate No. 16 1000 feet and more above GS flow\n",
    "PLV_16_top = ['PL49',\n",
    "              'PL333',\n",
    "              'PL44']\n",
    "\n",
    "#Ashbed Flow has a lot of sites in it that Books used to test for curvature.\n",
    "#The Ashbed Flow is above Conglomerate No. 16\n",
    "PLV_Ashbed = ['PL329',\n",
    "              'PL43',\n",
    "              'PL340',\n",
    "              'PL338',\n",
    "              'PL339',\n",
    "              'PL342']"
   ]
  },
  {
   "cell_type": "code",
   "execution_count": 76,
   "metadata": {},
   "outputs": [],
   "source": [
    "#Two of the Hnat flows are to the NE of the Copper City Flow, but appear to be below it\n",
    "Hnat_bottom_CC = ['H_PL10',\n",
    "                  'H_PL17']\n",
    "\n",
    "#PL26, PL27, PL28, PL29, PL30, PL31, PL32 are to the SW of the CC and GS flow. \n",
    "#They appear to be in the middle of the PLV and likely between the units in time\n",
    "#Note that H_PL33 is not in the PLV\n",
    "Hnat_CC_GS = ['H_PL15',\n",
    "             'H_PL21',\n",
    "             'H_PL13',\n",
    "             'H_PL11',\n",
    "             'H_PL06',\n",
    "             'H_PL04',\n",
    "             'H_PL03',\n",
    "             'H_PL02',\n",
    "             'H_PL01',\n",
    "             'H_PL08',\n",
    "             'H_PL24',\n",
    "             'H_PL25',\n",
    "             'H_PL19',\n",
    "             'H_PL26',\n",
    "             'H_PL27',\n",
    "             'H_PL28',\n",
    "             'H_PL29',\n",
    "             'H_PL30',\n",
    "             'H_PL31',\n",
    "             'H_PL32']\n",
    "              \n",
    "Hnat_GS_top = ['H_PL22',\n",
    "             'H_PL23',\n",
    "             'H_PL07',\n",
    "             'H_PL05',\n",
    "             'H_PL12']\n",
    "             \n",
    "Hnat_GS = ['H_PL14','H_PL16','H_PL20']"
   ]
  },
  {
   "cell_type": "markdown",
   "metadata": {},
   "source": [
    "Books (1972) sampled flows like the Greenstone Flow multiple times which each sample locality being called a site. Given that these sites are from the same cooling unit they should be combined into a single flow mean. Hnat et al. (2006) sampled this flow as well. Other flows were samples multiple times. The mean VGPs for these multiply sampled flows are calculated below."
   ]
  },
  {
   "cell_type": "code",
   "execution_count": 77,
   "metadata": {},
   "outputs": [],
   "source": [
    "PLV_Ashbed_B72 = Books1972_PLV_sites.loc[Books1972_PLV_sites['site'].isin(PLV_Ashbed)]\n",
    "PLV_Ashbed_B72_mean_vgp = ipmag.fisher_mean(dec=PLV_Ashbed_B72.vgp_lon.tolist(),\n",
    "                                            inc=PLV_Ashbed_B72.vgp_lat.tolist()) \n",
    "\n",
    "PLV_Greenstone_B72 = Books1972_PLV_sites.loc[Books1972_PLV_sites['site'].isin(PLV_GS)]\n",
    "PLV_Greenstone_H06 = Hnat2006_sites.loc[Hnat2006_sites['site'].isin(Hnat_GS)]\n",
    "PLV_Greenstone_mean_vgp = ipmag.fisher_mean(dec=PLV_Greenstone_B72.vgp_lon.tolist()+PLV_Greenstone_H06.vgp_lon.tolist(),\n",
    "                                            inc=PLV_Greenstone_B72.vgp_lat.tolist()+PLV_Greenstone_H06.vgp_lat.tolist()) \n",
    "\n",
    "PLV_Kearsarge_B72 = Books1972_PLV_sites.loc[Books1972_PLV_sites['site'].isin(PLV_Kearsarge)]\n",
    "PLV_Kearsarge_B72_mean_vgp = ipmag.fisher_mean(dec=PLV_Kearsarge_B72.vgp_lon.tolist(),\n",
    "                                            inc=PLV_Kearsarge_B72.vgp_lat.tolist()) \n",
    "\n",
    "PLV_Scales_B72 = Books1972_PLV_sites.loc[Books1972_PLV_sites['site'].isin(PLV_Scales)]\n",
    "PLV_Scales_B72_mean_vgp = ipmag.fisher_mean(dec=PLV_Scales_B72.vgp_lon.tolist(),\n",
    "                                            inc=PLV_Scales_B72.vgp_lat.tolist()) "
   ]
  },
  {
   "cell_type": "code",
   "execution_count": 78,
   "metadata": {},
   "outputs": [],
   "source": [
    "PLV_CCtoGS_B72 = Books1972_PLV_sites.loc[Books1972_PLV_sites['site'].isin(PLV_CCtoGS)]\n",
    "\n",
    "PLV_GS_16_B72 = Books1972_PLV_sites.loc[Books1972_PLV_sites['site'].isin(PLV_GS_16)]\n",
    "\n",
    "PLV_16_top_B72 = Books1972_PLV_sites.loc[Books1972_PLV_sites['site'].isin(PLV_16_top)]\n",
    "\n",
    "PLV_bottom_CC_H06 = Hnat2006_sites.loc[Hnat2006_sites['site'].isin(Hnat_bottom_CC)]\n",
    "\n",
    "PLV_CCtoGS_H06 = Hnat2006_sites.loc[Hnat2006_sites['site'].isin(Hnat_CC_GS)]\n",
    "\n",
    "PLV_GS_top_H06 = Hnat2006_sites.loc[Hnat2006_sites['site'].isin(Hnat_GS_top)]"
   ]
  },
  {
   "cell_type": "code",
   "execution_count": 79,
   "metadata": {},
   "outputs": [
    {
     "name": "stdout",
     "output_type": "stream",
     "text": [
      "Plon: 182.5  Plat: 27.5\n",
      "Number of directions in mean (n): 78\n",
      "Angular radius of 95% confidence (A_95): 2.3\n",
      "Precision parameter (k) estimate: 48.7\n"
     ]
    }
   ],
   "source": [
    "PLV_pole_lons = []\n",
    "PLV_pole_lons = \\\n",
    "PLV_bottom_CC_H06['vgp_lon'].tolist()\\\n",
    "+ PLV_CCtoGS_H06['vgp_lon'].tolist()\\\n",
    "+ PLV_GS_top_H06['vgp_lon'].tolist()\\\n",
    "+ PLV_CCtoGS_B72['vgp_lon'].tolist()\\\n",
    "+ PLV_GS_16_B72['vgp_lon'].tolist()\\\n",
    "+ PLV_16_top_B72['vgp_lon'].tolist()\\\n",
    "+ [PLV_Kearsarge_B72_mean_vgp['dec'],PLV_Greenstone_mean_vgp['dec'],PLV_Scales_B72_mean_vgp['dec'],PLV_Ashbed_B72_mean_vgp['dec']]\\\n",
    "\n",
    "PLV_pole_lats = \\\n",
    "PLV_bottom_CC_H06['vgp_lat'].tolist()\\\n",
    "+ PLV_CCtoGS_H06['vgp_lat'].tolist()\\\n",
    "+ PLV_GS_top_H06['vgp_lat'].tolist()\\\n",
    "+ PLV_CCtoGS_B72['vgp_lat'].tolist()\\\n",
    "+ PLV_GS_16_B72['vgp_lat'].tolist()\\\n",
    "+ PLV_16_top_B72['vgp_lat'].tolist()\\\n",
    "+ [PLV_Kearsarge_B72_mean_vgp['inc'],PLV_Greenstone_mean_vgp['inc'],PLV_Scales_B72_mean_vgp['inc'],PLV_Ashbed_B72_mean_vgp['inc']]\\\n",
    "\n",
    "PLV_pole = ipmag.fisher_mean(dec=PLV_pole_lons,inc=PLV_pole_lats)\n",
    "ipmag.print_pole_mean(PLV_pole)"
   ]
  },
  {
   "cell_type": "markdown",
   "metadata": {},
   "source": [
    "To have a mean flow effectively bracketed by dates from the Copper City and Greenstone flows, we combine the flows from Books 1972 and Hnat 2006 from between and including the two flows. Flows between the Greenstone Flow and  that were densely sampled by Books (1972) in the ~300 meters above the Greenstone Flow."
   ]
  },
  {
   "cell_type": "code",
   "execution_count": 80,
   "metadata": {},
   "outputs": [
    {
     "name": "stdout",
     "output_type": "stream",
     "text": [
      "Plon: 184.2  Plat: 26.2\n",
      "Number of directions in mean (n): 53\n",
      "Angular radius of 95% confidence (A_95): 3.0\n",
      "Precision parameter (k) estimate: 44.8\n",
      "\n",
      "Plon: 183.5  Plat: 27.0\n",
      "Number of directions in mean (n): 67\n",
      "Angular radius of 95% confidence (A_95): 2.5\n",
      "Precision parameter (k) estimate: 49.9\n"
     ]
    }
   ],
   "source": [
    "PLV_CC_GS_pole_lons = []\n",
    "PLV_CC_GS_pole_lons = PLV_CCtoGS_H06['vgp_lon'].tolist()\\\n",
    "+ PLV_CCtoGS_B72['vgp_lon'].tolist()\\\n",
    "+ [PLV_Kearsarge_B72_mean_vgp['dec'],PLV_Greenstone_mean_vgp['dec'],PLV_Scales_B72_mean_vgp['dec']]\\\n",
    "\n",
    "PLV_CC_GS_pole_lats = []\n",
    "PLV_CC_GS_pole_lats = PLV_CCtoGS_H06['vgp_lat'].tolist()\\\n",
    "+ PLV_CCtoGS_B72['vgp_lat'].tolist()\\\n",
    "+ [PLV_Kearsarge_B72_mean_vgp['inc'],PLV_Greenstone_mean_vgp['inc'],PLV_Scales_B72_mean_vgp['inc']]\n",
    "\n",
    "PLV_CC_Cong16_pole_lons = []\n",
    "PLV_CC_Cong16_pole_lons = PLV_CCtoGS_H06['vgp_lon'].tolist()\\\n",
    "+ PLV_CCtoGS_B72['vgp_lon'].tolist()\\\n",
    "+ PLV_GS_16_B72['vgp_lon'].tolist()\\\n",
    "+ [PLV_Kearsarge_B72_mean_vgp['dec'],PLV_Greenstone_mean_vgp['dec'],PLV_Scales_B72_mean_vgp['dec']]\\\n",
    "\n",
    "PLV_CC_Cong16_pole_lats = []\n",
    "PLV_CC_Cong16_pole_lats = PLV_CCtoGS_H06['vgp_lat'].tolist()\\\n",
    "+ PLV_CCtoGS_B72['vgp_lat'].tolist()\\\n",
    "+ PLV_GS_16_B72['vgp_lat'].tolist()\\\n",
    "+ [PLV_Kearsarge_B72_mean_vgp['inc'],PLV_Greenstone_mean_vgp['inc'],PLV_Scales_B72_mean_vgp['inc']]\n",
    "\n",
    "PLV_CC_GS_pole = ipmag.fisher_mean(dec=PLV_CC_GS_pole_lons,inc=PLV_CC_GS_pole_lats)\n",
    "PLV_CC_Cong16_pole = ipmag.fisher_mean(dec=PLV_CC_Cong16_pole_lons,inc=PLV_CC_Cong16_pole_lats)\n",
    "ipmag.print_pole_mean(PLV_CC_GS_pole)\n",
    "print('')\n",
    "ipmag.print_pole_mean(PLV_CC_Cong16_pole)"
   ]
  },
  {
   "cell_type": "code",
   "execution_count": 81,
   "metadata": {},
   "outputs": [],
   "source": [
    "pole_means.loc['PLV'] = pd.Series({'PoleName' : 'Portage Lake Volcanics',\n",
    "                                        'SLat' : round(PLV_CCtoGS_B72.lat.tolist()[0],2),\n",
    "                                        'SLon' : 360+round(PLV_CCtoGS_B72.lon.tolist()[0],2),\n",
    "                                        'PLat' : round(PLV_pole['inc'],1),\n",
    "                                        'PLon' : round(PLV_pole['dec'],1),\n",
    "                                        'A95' : round(PLV_pole['alpha95'],1),\n",
    "                                        'K' : round(PLV_pole['k'],1),\n",
    "                                        'N' : int(PLV_pole['n']),\n",
    "                                        'PolarityZone' : 'Portage Lake normal-polarity zone',\n",
    "                                        'PmagRef' : 'Books, 1972; Hnat et al., 2006',\n",
    "                                        'AgeNominal' : round(((1093.36+1091.67)/2),2),\n",
    "                                        'AgeLower' : 1091.59,\n",
    "                                        'AgeUpper' : 1093.37,\n",
    "                                        'AgeInfo' : '$^{\\mathrm{206}}$Pb/$^{\\mathrm{238}}$U dates on Copper City flow 1093.37 $\\pm$ 0.53 Ma and Greenstone Flow 1091.59 $\\pm$ 0.27 Ma provide a lower and upper bound',\n",
    "                                        'AgeRef' : 'this study',\n",
    "                                        'GaussianOrUniform' : 'gaussian',\n",
    "                                        'Gaussian_2sigma' : round(((1093.37-1091.59)/2),2),\n",
    "                                        'Q' : '6',\n",
    "                                        'color' : '#409BBE'})"
   ]
  },
  {
   "cell_type": "markdown",
   "metadata": {},
   "source": [
    "### Lake Shore traps pole\n",
    "#### Diehl and Haig (1994) data\n",
    "\n",
    "The Lake Shore Traps site data developed by Diehl and Haig (1994) were contributed to the MagIC database as part of this compilation effort and can be found here: https://earthref.org/MagIC/16334"
   ]
  },
  {
   "cell_type": "code",
   "execution_count": 82,
   "metadata": {},
   "outputs": [],
   "source": [
    "%%capture\n",
    "ipmag.download_magic('magic_contribution_16334.txt',\n",
    "                     dir_path='../data/pmag_compiled/Diehl1994',\n",
    "                     input_dir_path='../data/pmag_compiled/Diehl1994',\n",
    "                     overwrite=True,print_progress=False,data_model=3.0)"
   ]
  },
  {
   "cell_type": "code",
   "execution_count": 83,
   "metadata": {},
   "outputs": [
    {
     "data": {
      "text/html": [
       "<div>\n",
       "<style scoped>\n",
       "    .dataframe tbody tr th:only-of-type {\n",
       "        vertical-align: middle;\n",
       "    }\n",
       "\n",
       "    .dataframe tbody tr th {\n",
       "        vertical-align: top;\n",
       "    }\n",
       "\n",
       "    .dataframe thead th {\n",
       "        text-align: right;\n",
       "    }\n",
       "</style>\n",
       "<table border=\"1\" class=\"dataframe\">\n",
       "  <thead>\n",
       "    <tr style=\"text-align: right;\">\n",
       "      <th></th>\n",
       "      <th>bed_dip</th>\n",
       "      <th>bed_dip_direction</th>\n",
       "      <th>dir_alpha95</th>\n",
       "      <th>dir_dec</th>\n",
       "      <th>dir_inc</th>\n",
       "      <th>dir_k</th>\n",
       "      <th>dir_n_samples</th>\n",
       "      <th>dir_tilt_correction</th>\n",
       "      <th>lat</th>\n",
       "      <th>lon</th>\n",
       "      <th>member</th>\n",
       "      <th>site</th>\n",
       "      <th>vgp_lat</th>\n",
       "      <th>vgp_lon</th>\n",
       "    </tr>\n",
       "  </thead>\n",
       "  <tbody>\n",
       "    <tr>\n",
       "      <th>0</th>\n",
       "      <td>24</td>\n",
       "      <td>22</td>\n",
       "      <td>3.8</td>\n",
       "      <td>301.3</td>\n",
       "      <td>38.7</td>\n",
       "      <td>184.7</td>\n",
       "      <td>9</td>\n",
       "      <td>100</td>\n",
       "      <td>47.43</td>\n",
       "      <td>-87.71</td>\n",
       "      <td>Middle LST</td>\n",
       "      <td>LST1</td>\n",
       "      <td>36.9</td>\n",
       "      <td>175.8</td>\n",
       "    </tr>\n",
       "    <tr>\n",
       "      <th>1</th>\n",
       "      <td>24</td>\n",
       "      <td>22</td>\n",
       "      <td>4.8</td>\n",
       "      <td>302.5</td>\n",
       "      <td>37.6</td>\n",
       "      <td>162.8</td>\n",
       "      <td>7</td>\n",
       "      <td>100</td>\n",
       "      <td>47.43</td>\n",
       "      <td>-87.71</td>\n",
       "      <td>Middle LST</td>\n",
       "      <td>LST2</td>\n",
       "      <td>37.1</td>\n",
       "      <td>173.2</td>\n",
       "    </tr>\n",
       "    <tr>\n",
       "      <th>2</th>\n",
       "      <td>24</td>\n",
       "      <td>22</td>\n",
       "      <td>2.4</td>\n",
       "      <td>302.5</td>\n",
       "      <td>36.7</td>\n",
       "      <td>620.2</td>\n",
       "      <td>7</td>\n",
       "      <td>100</td>\n",
       "      <td>47.43</td>\n",
       "      <td>-87.71</td>\n",
       "      <td>Middle LST</td>\n",
       "      <td>LST3</td>\n",
       "      <td>36.7</td>\n",
       "      <td>172.6</td>\n",
       "    </tr>\n",
       "    <tr>\n",
       "      <th>3</th>\n",
       "      <td>24</td>\n",
       "      <td>22</td>\n",
       "      <td>2.1</td>\n",
       "      <td>300.1</td>\n",
       "      <td>36.8</td>\n",
       "      <td>681.1</td>\n",
       "      <td>8</td>\n",
       "      <td>100</td>\n",
       "      <td>47.43</td>\n",
       "      <td>-87.71</td>\n",
       "      <td>Middle LST</td>\n",
       "      <td>LST4</td>\n",
       "      <td>35.2</td>\n",
       "      <td>174.6</td>\n",
       "    </tr>\n",
       "    <tr>\n",
       "      <th>4</th>\n",
       "      <td>24</td>\n",
       "      <td>22</td>\n",
       "      <td>2.4</td>\n",
       "      <td>302.0</td>\n",
       "      <td>34.8</td>\n",
       "      <td>630.0</td>\n",
       "      <td>7</td>\n",
       "      <td>100</td>\n",
       "      <td>47.43</td>\n",
       "      <td>-87.71</td>\n",
       "      <td>Middle LST</td>\n",
       "      <td>LST5</td>\n",
       "      <td>35.5</td>\n",
       "      <td>171.9</td>\n",
       "    </tr>\n",
       "    <tr>\n",
       "      <th>5</th>\n",
       "      <td>24</td>\n",
       "      <td>22</td>\n",
       "      <td>3.4</td>\n",
       "      <td>300.4</td>\n",
       "      <td>35.1</td>\n",
       "      <td>228.2</td>\n",
       "      <td>9</td>\n",
       "      <td>100</td>\n",
       "      <td>47.43</td>\n",
       "      <td>-87.71</td>\n",
       "      <td>Middle LST</td>\n",
       "      <td>LST6</td>\n",
       "      <td>34.6</td>\n",
       "      <td>173.4</td>\n",
       "    </tr>\n",
       "    <tr>\n",
       "      <th>6</th>\n",
       "      <td>24</td>\n",
       "      <td>22</td>\n",
       "      <td>2.0</td>\n",
       "      <td>295.5</td>\n",
       "      <td>35.6</td>\n",
       "      <td>581.8</td>\n",
       "      <td>10</td>\n",
       "      <td>100</td>\n",
       "      <td>47.43</td>\n",
       "      <td>-87.71</td>\n",
       "      <td>Middle LST</td>\n",
       "      <td>LST7</td>\n",
       "      <td>31.5</td>\n",
       "      <td>177.6</td>\n",
       "    </tr>\n",
       "    <tr>\n",
       "      <th>7</th>\n",
       "      <td>24</td>\n",
       "      <td>22</td>\n",
       "      <td>3.9</td>\n",
       "      <td>299.7</td>\n",
       "      <td>35.2</td>\n",
       "      <td>207.3</td>\n",
       "      <td>8</td>\n",
       "      <td>100</td>\n",
       "      <td>47.43</td>\n",
       "      <td>-87.71</td>\n",
       "      <td>Middle LST</td>\n",
       "      <td>LST8</td>\n",
       "      <td>34.1</td>\n",
       "      <td>174.0</td>\n",
       "    </tr>\n",
       "    <tr>\n",
       "      <th>8</th>\n",
       "      <td>24</td>\n",
       "      <td>22</td>\n",
       "      <td>3.9</td>\n",
       "      <td>295.8</td>\n",
       "      <td>27.6</td>\n",
       "      <td>206.4</td>\n",
       "      <td>8</td>\n",
       "      <td>100</td>\n",
       "      <td>47.43</td>\n",
       "      <td>-87.71</td>\n",
       "      <td>Middle LST</td>\n",
       "      <td>LST9</td>\n",
       "      <td>28.1</td>\n",
       "      <td>173.2</td>\n",
       "    </tr>\n",
       "    <tr>\n",
       "      <th>9</th>\n",
       "      <td>24</td>\n",
       "      <td>22</td>\n",
       "      <td>2.1</td>\n",
       "      <td>300.7</td>\n",
       "      <td>30.7</td>\n",
       "      <td>863.3</td>\n",
       "      <td>7</td>\n",
       "      <td>100</td>\n",
       "      <td>47.43</td>\n",
       "      <td>-87.71</td>\n",
       "      <td>Middle LST</td>\n",
       "      <td>LST10</td>\n",
       "      <td>32.7</td>\n",
       "      <td>170.8</td>\n",
       "    </tr>\n",
       "    <tr>\n",
       "      <th>10</th>\n",
       "      <td>24</td>\n",
       "      <td>22</td>\n",
       "      <td>3.1</td>\n",
       "      <td>289.9</td>\n",
       "      <td>20.9</td>\n",
       "      <td>379.3</td>\n",
       "      <td>7</td>\n",
       "      <td>100</td>\n",
       "      <td>47.43</td>\n",
       "      <td>-87.71</td>\n",
       "      <td>Middle LST</td>\n",
       "      <td>LST11</td>\n",
       "      <td>21.4</td>\n",
       "      <td>174.9</td>\n",
       "    </tr>\n",
       "    <tr>\n",
       "      <th>11</th>\n",
       "      <td>24</td>\n",
       "      <td>22</td>\n",
       "      <td>4.5</td>\n",
       "      <td>285.3</td>\n",
       "      <td>42.4</td>\n",
       "      <td>155.4</td>\n",
       "      <td>8</td>\n",
       "      <td>100</td>\n",
       "      <td>47.43</td>\n",
       "      <td>-87.71</td>\n",
       "      <td>Middle LST</td>\n",
       "      <td>LST13</td>\n",
       "      <td>27.9</td>\n",
       "      <td>189.1</td>\n",
       "    </tr>\n",
       "    <tr>\n",
       "      <th>12</th>\n",
       "      <td>24</td>\n",
       "      <td>22</td>\n",
       "      <td>2.7</td>\n",
       "      <td>278.7</td>\n",
       "      <td>42.6</td>\n",
       "      <td>358.8</td>\n",
       "      <td>9</td>\n",
       "      <td>100</td>\n",
       "      <td>47.43</td>\n",
       "      <td>-87.71</td>\n",
       "      <td>Middle LST</td>\n",
       "      <td>LST16</td>\n",
       "      <td>23.6</td>\n",
       "      <td>193.7</td>\n",
       "    </tr>\n",
       "    <tr>\n",
       "      <th>13</th>\n",
       "      <td>24</td>\n",
       "      <td>22</td>\n",
       "      <td>3.3</td>\n",
       "      <td>278.9</td>\n",
       "      <td>43.9</td>\n",
       "      <td>292.0</td>\n",
       "      <td>8</td>\n",
       "      <td>100</td>\n",
       "      <td>47.43</td>\n",
       "      <td>-87.71</td>\n",
       "      <td>Middle LST</td>\n",
       "      <td>LST17</td>\n",
       "      <td>24.4</td>\n",
       "      <td>194.4</td>\n",
       "    </tr>\n",
       "    <tr>\n",
       "      <th>14</th>\n",
       "      <td>24</td>\n",
       "      <td>22</td>\n",
       "      <td>3.1</td>\n",
       "      <td>282.5</td>\n",
       "      <td>39.9</td>\n",
       "      <td>331.1</td>\n",
       "      <td>8</td>\n",
       "      <td>100</td>\n",
       "      <td>47.43</td>\n",
       "      <td>-87.71</td>\n",
       "      <td>Middle LST</td>\n",
       "      <td>LST19</td>\n",
       "      <td>24.8</td>\n",
       "      <td>189.5</td>\n",
       "    </tr>\n",
       "    <tr>\n",
       "      <th>15</th>\n",
       "      <td>24</td>\n",
       "      <td>22</td>\n",
       "      <td>2.0</td>\n",
       "      <td>276.9</td>\n",
       "      <td>41.9</td>\n",
       "      <td>786.0</td>\n",
       "      <td>8</td>\n",
       "      <td>100</td>\n",
       "      <td>47.43</td>\n",
       "      <td>-87.71</td>\n",
       "      <td>Middle LST</td>\n",
       "      <td>LST23</td>\n",
       "      <td>22.1</td>\n",
       "      <td>194.5</td>\n",
       "    </tr>\n",
       "    <tr>\n",
       "      <th>16</th>\n",
       "      <td>24</td>\n",
       "      <td>22</td>\n",
       "      <td>5.5</td>\n",
       "      <td>271.9</td>\n",
       "      <td>41.9</td>\n",
       "      <td>103.5</td>\n",
       "      <td>8</td>\n",
       "      <td>100</td>\n",
       "      <td>47.43</td>\n",
       "      <td>-87.71</td>\n",
       "      <td>Middle LST</td>\n",
       "      <td>LST26</td>\n",
       "      <td>18.8</td>\n",
       "      <td>197.9</td>\n",
       "    </tr>\n",
       "    <tr>\n",
       "      <th>17</th>\n",
       "      <td>24</td>\n",
       "      <td>22</td>\n",
       "      <td>3.9</td>\n",
       "      <td>276.4</td>\n",
       "      <td>32.4</td>\n",
       "      <td>207.2</td>\n",
       "      <td>8</td>\n",
       "      <td>100</td>\n",
       "      <td>47.43</td>\n",
       "      <td>-87.71</td>\n",
       "      <td>Middle LST</td>\n",
       "      <td>LST28</td>\n",
       "      <td>17.1</td>\n",
       "      <td>189.9</td>\n",
       "    </tr>\n",
       "    <tr>\n",
       "      <th>18</th>\n",
       "      <td>24</td>\n",
       "      <td>22</td>\n",
       "      <td>2.1</td>\n",
       "      <td>276.2</td>\n",
       "      <td>39.5</td>\n",
       "      <td>592.9</td>\n",
       "      <td>9</td>\n",
       "      <td>100</td>\n",
       "      <td>47.43</td>\n",
       "      <td>-87.71</td>\n",
       "      <td>Middle LST</td>\n",
       "      <td>LST29</td>\n",
       "      <td>20.4</td>\n",
       "      <td>193.6</td>\n",
       "    </tr>\n",
       "    <tr>\n",
       "      <th>19</th>\n",
       "      <td>24</td>\n",
       "      <td>22</td>\n",
       "      <td>3.9</td>\n",
       "      <td>274.2</td>\n",
       "      <td>40.2</td>\n",
       "      <td>208.3</td>\n",
       "      <td>8</td>\n",
       "      <td>100</td>\n",
       "      <td>47.43</td>\n",
       "      <td>-87.71</td>\n",
       "      <td>Middle LST</td>\n",
       "      <td>LST31</td>\n",
       "      <td>19.4</td>\n",
       "      <td>195.4</td>\n",
       "    </tr>\n",
       "    <tr>\n",
       "      <th>20</th>\n",
       "      <td>29</td>\n",
       "      <td>298</td>\n",
       "      <td>2.4</td>\n",
       "      <td>295.4</td>\n",
       "      <td>12.9</td>\n",
       "      <td>656.2</td>\n",
       "      <td>7</td>\n",
       "      <td>100</td>\n",
       "      <td>47.30</td>\n",
       "      <td>-88.45</td>\n",
       "      <td>Middle LST</td>\n",
       "      <td>Lt 1</td>\n",
       "      <td>21.9</td>\n",
       "      <td>166.8</td>\n",
       "    </tr>\n",
       "    <tr>\n",
       "      <th>21</th>\n",
       "      <td>29</td>\n",
       "      <td>298</td>\n",
       "      <td>3.4</td>\n",
       "      <td>281.8</td>\n",
       "      <td>22.3</td>\n",
       "      <td>321.6</td>\n",
       "      <td>7</td>\n",
       "      <td>100</td>\n",
       "      <td>47.30</td>\n",
       "      <td>-88.45</td>\n",
       "      <td>Middle LST</td>\n",
       "      <td>Lt 2</td>\n",
       "      <td>16.5</td>\n",
       "      <td>180.9</td>\n",
       "    </tr>\n",
       "    <tr>\n",
       "      <th>22</th>\n",
       "      <td>25</td>\n",
       "      <td>295</td>\n",
       "      <td>6.1</td>\n",
       "      <td>281.3</td>\n",
       "      <td>8.9</td>\n",
       "      <td>83.6</td>\n",
       "      <td>8</td>\n",
       "      <td>100</td>\n",
       "      <td>47.34</td>\n",
       "      <td>-88.45</td>\n",
       "      <td>Outer LST</td>\n",
       "      <td>OT1</td>\n",
       "      <td>10.9</td>\n",
       "      <td>176.3</td>\n",
       "    </tr>\n",
       "    <tr>\n",
       "      <th>23</th>\n",
       "      <td>25</td>\n",
       "      <td>295</td>\n",
       "      <td>5.8</td>\n",
       "      <td>275.4</td>\n",
       "      <td>3.9</td>\n",
       "      <td>109.0</td>\n",
       "      <td>7</td>\n",
       "      <td>100</td>\n",
       "      <td>47.34</td>\n",
       "      <td>-88.45</td>\n",
       "      <td>Outer LST</td>\n",
       "      <td>OT2</td>\n",
       "      <td>5.1</td>\n",
       "      <td>178.9</td>\n",
       "    </tr>\n",
       "    <tr>\n",
       "      <th>24</th>\n",
       "      <td>25</td>\n",
       "      <td>295</td>\n",
       "      <td>4.2</td>\n",
       "      <td>275.3</td>\n",
       "      <td>1.5</td>\n",
       "      <td>206.6</td>\n",
       "      <td>7</td>\n",
       "      <td>100</td>\n",
       "      <td>47.34</td>\n",
       "      <td>-88.45</td>\n",
       "      <td>Outer LST</td>\n",
       "      <td>OT3</td>\n",
       "      <td>4.1</td>\n",
       "      <td>178.2</td>\n",
       "    </tr>\n",
       "    <tr>\n",
       "      <th>25</th>\n",
       "      <td>25</td>\n",
       "      <td>295</td>\n",
       "      <td>6.4</td>\n",
       "      <td>278.4</td>\n",
       "      <td>3.6</td>\n",
       "      <td>109.7</td>\n",
       "      <td>6</td>\n",
       "      <td>100</td>\n",
       "      <td>47.34</td>\n",
       "      <td>-88.45</td>\n",
       "      <td>Outer LST</td>\n",
       "      <td>OT4</td>\n",
       "      <td>7.0</td>\n",
       "      <td>176.6</td>\n",
       "    </tr>\n",
       "    <tr>\n",
       "      <th>26</th>\n",
       "      <td>25</td>\n",
       "      <td>295</td>\n",
       "      <td>3.0</td>\n",
       "      <td>276.5</td>\n",
       "      <td>4.7</td>\n",
       "      <td>394.1</td>\n",
       "      <td>7</td>\n",
       "      <td>100</td>\n",
       "      <td>47.34</td>\n",
       "      <td>-88.45</td>\n",
       "      <td>Outer LST</td>\n",
       "      <td>OT5</td>\n",
       "      <td>6.1</td>\n",
       "      <td>178.3</td>\n",
       "    </tr>\n",
       "    <tr>\n",
       "      <th>27</th>\n",
       "      <td>25</td>\n",
       "      <td>295</td>\n",
       "      <td>4.5</td>\n",
       "      <td>275.9</td>\n",
       "      <td>2.9</td>\n",
       "      <td>182.8</td>\n",
       "      <td>7</td>\n",
       "      <td>100</td>\n",
       "      <td>47.34</td>\n",
       "      <td>-88.45</td>\n",
       "      <td>Outer LST</td>\n",
       "      <td>OT6</td>\n",
       "      <td>5.1</td>\n",
       "      <td>178.2</td>\n",
       "    </tr>\n",
       "    <tr>\n",
       "      <th>28</th>\n",
       "      <td>25</td>\n",
       "      <td>295</td>\n",
       "      <td>5.8</td>\n",
       "      <td>283.9</td>\n",
       "      <td>10.2</td>\n",
       "      <td>83.6</td>\n",
       "      <td>9</td>\n",
       "      <td>100</td>\n",
       "      <td>47.34</td>\n",
       "      <td>-88.45</td>\n",
       "      <td>Outer LST</td>\n",
       "      <td>OT7</td>\n",
       "      <td>13.2</td>\n",
       "      <td>174.8</td>\n",
       "    </tr>\n",
       "    <tr>\n",
       "      <th>29</th>\n",
       "      <td>25</td>\n",
       "      <td>295</td>\n",
       "      <td>2.1</td>\n",
       "      <td>275.6</td>\n",
       "      <td>5.8</td>\n",
       "      <td>863.3</td>\n",
       "      <td>7</td>\n",
       "      <td>100</td>\n",
       "      <td>47.34</td>\n",
       "      <td>-88.45</td>\n",
       "      <td>Outer LST</td>\n",
       "      <td>OT8</td>\n",
       "      <td>5.9</td>\n",
       "      <td>179.4</td>\n",
       "    </tr>\n",
       "  </tbody>\n",
       "</table>\n",
       "</div>"
      ],
      "text/plain": [
       "    bed_dip  bed_dip_direction  dir_alpha95  dir_dec  dir_inc  dir_k  \\\n",
       "0   24       22                 3.8          301.3    38.7     184.7   \n",
       "1   24       22                 4.8          302.5    37.6     162.8   \n",
       "2   24       22                 2.4          302.5    36.7     620.2   \n",
       "3   24       22                 2.1          300.1    36.8     681.1   \n",
       "4   24       22                 2.4          302.0    34.8     630.0   \n",
       "5   24       22                 3.4          300.4    35.1     228.2   \n",
       "6   24       22                 2.0          295.5    35.6     581.8   \n",
       "7   24       22                 3.9          299.7    35.2     207.3   \n",
       "8   24       22                 3.9          295.8    27.6     206.4   \n",
       "9   24       22                 2.1          300.7    30.7     863.3   \n",
       "10  24       22                 3.1          289.9    20.9     379.3   \n",
       "11  24       22                 4.5          285.3    42.4     155.4   \n",
       "12  24       22                 2.7          278.7    42.6     358.8   \n",
       "13  24       22                 3.3          278.9    43.9     292.0   \n",
       "14  24       22                 3.1          282.5    39.9     331.1   \n",
       "15  24       22                 2.0          276.9    41.9     786.0   \n",
       "16  24       22                 5.5          271.9    41.9     103.5   \n",
       "17  24       22                 3.9          276.4    32.4     207.2   \n",
       "18  24       22                 2.1          276.2    39.5     592.9   \n",
       "19  24       22                 3.9          274.2    40.2     208.3   \n",
       "20  29       298                2.4          295.4    12.9     656.2   \n",
       "21  29       298                3.4          281.8    22.3     321.6   \n",
       "22  25       295                6.1          281.3    8.9      83.6    \n",
       "23  25       295                5.8          275.4    3.9      109.0   \n",
       "24  25       295                4.2          275.3    1.5      206.6   \n",
       "25  25       295                6.4          278.4    3.6      109.7   \n",
       "26  25       295                3.0          276.5    4.7      394.1   \n",
       "27  25       295                4.5          275.9    2.9      182.8   \n",
       "28  25       295                5.8          283.9    10.2     83.6    \n",
       "29  25       295                2.1          275.6    5.8      863.3   \n",
       "\n",
       "    dir_n_samples  dir_tilt_correction    lat    lon      member   site  \\\n",
       "0   9              100                  47.43 -87.71  Middle LST  LST1    \n",
       "1   7              100                  47.43 -87.71  Middle LST  LST2    \n",
       "2   7              100                  47.43 -87.71  Middle LST  LST3    \n",
       "3   8              100                  47.43 -87.71  Middle LST  LST4    \n",
       "4   7              100                  47.43 -87.71  Middle LST  LST5    \n",
       "5   9              100                  47.43 -87.71  Middle LST  LST6    \n",
       "6   10             100                  47.43 -87.71  Middle LST  LST7    \n",
       "7   8              100                  47.43 -87.71  Middle LST  LST8    \n",
       "8   8              100                  47.43 -87.71  Middle LST  LST9    \n",
       "9   7              100                  47.43 -87.71  Middle LST  LST10   \n",
       "10  7              100                  47.43 -87.71  Middle LST  LST11   \n",
       "11  8              100                  47.43 -87.71  Middle LST  LST13   \n",
       "12  9              100                  47.43 -87.71  Middle LST  LST16   \n",
       "13  8              100                  47.43 -87.71  Middle LST  LST17   \n",
       "14  8              100                  47.43 -87.71  Middle LST  LST19   \n",
       "15  8              100                  47.43 -87.71  Middle LST  LST23   \n",
       "16  8              100                  47.43 -87.71  Middle LST  LST26   \n",
       "17  8              100                  47.43 -87.71  Middle LST  LST28   \n",
       "18  9              100                  47.43 -87.71  Middle LST  LST29   \n",
       "19  8              100                  47.43 -87.71  Middle LST  LST31   \n",
       "20  7              100                  47.30 -88.45  Middle LST  Lt 1    \n",
       "21  7              100                  47.30 -88.45  Middle LST  Lt 2    \n",
       "22  8              100                  47.34 -88.45  Outer LST   OT1     \n",
       "23  7              100                  47.34 -88.45  Outer LST   OT2     \n",
       "24  7              100                  47.34 -88.45  Outer LST   OT3     \n",
       "25  6              100                  47.34 -88.45  Outer LST   OT4     \n",
       "26  7              100                  47.34 -88.45  Outer LST   OT5     \n",
       "27  7              100                  47.34 -88.45  Outer LST   OT6     \n",
       "28  9              100                  47.34 -88.45  Outer LST   OT7     \n",
       "29  7              100                  47.34 -88.45  Outer LST   OT8     \n",
       "\n",
       "    vgp_lat  vgp_lon  \n",
       "0   36.9     175.8    \n",
       "1   37.1     173.2    \n",
       "2   36.7     172.6    \n",
       "3   35.2     174.6    \n",
       "4   35.5     171.9    \n",
       "5   34.6     173.4    \n",
       "6   31.5     177.6    \n",
       "7   34.1     174.0    \n",
       "8   28.1     173.2    \n",
       "9   32.7     170.8    \n",
       "10  21.4     174.9    \n",
       "11  27.9     189.1    \n",
       "12  23.6     193.7    \n",
       "13  24.4     194.4    \n",
       "14  24.8     189.5    \n",
       "15  22.1     194.5    \n",
       "16  18.8     197.9    \n",
       "17  17.1     189.9    \n",
       "18  20.4     193.6    \n",
       "19  19.4     195.4    \n",
       "20  21.9     166.8    \n",
       "21  16.5     180.9    \n",
       "22  10.9     176.3    \n",
       "23  5.1      178.9    \n",
       "24  4.1      178.2    \n",
       "25  7.0      176.6    \n",
       "26  6.1      178.3    \n",
       "27  5.1      178.2    \n",
       "28  13.2     174.8    \n",
       "29  5.9      179.4    "
      ]
     },
     "execution_count": 83,
     "metadata": {},
     "output_type": "execute_result"
    }
   ],
   "source": [
    "Diehl1994a_sites = pd.read_csv('../data/pmag_compiled/Diehl1994/sites.txt',sep='\\t',header=1)\n",
    "Diehl1994a_sites"
   ]
  },
  {
   "cell_type": "code",
   "execution_count": 84,
   "metadata": {},
   "outputs": [
    {
     "name": "stdout",
     "output_type": "stream",
     "text": [
      "Plon: 180.8  Plat: 22.2\n",
      "Number of directions in mean (n): 30\n",
      "Angular radius of 95% confidence (A_95): 4.5\n",
      "Precision parameter (k) estimate: 35.0\n"
     ]
    }
   ],
   "source": [
    "LST_Diehl_VGPs=ipmag.make_di_block(Diehl1994a_sites['vgp_lon'],\n",
    "                                   Diehl1994a_sites['vgp_lat'])\n",
    "LST_Diehl_mean = pmag.fisher_mean(LST_Diehl_VGPs)\n",
    "ipmag.print_pole_mean(LST_Diehl_mean)"
   ]
  },
  {
   "cell_type": "markdown",
   "metadata": {},
   "source": [
    "#### Kulakov et al. (2013) data\n",
    "\n",
    "The Lake Shore Traps site data developed by Kulakov et al. (2013) were contributed to the MagIC database as part of this compilation effort and can be found here: https://earthref.org/MagIC/16335"
   ]
  },
  {
   "cell_type": "code",
   "execution_count": 85,
   "metadata": {},
   "outputs": [],
   "source": [
    "%%capture\n",
    "ipmag.download_magic('magic_contribution_16335.txt',\n",
    "                     dir_path='../data/pmag_compiled/Kulakov2013',\n",
    "                     input_dir_path='../data/pmag_compiled/Kulakov2013',\n",
    "                     overwrite=True,print_progress=False,data_model=3.0)"
   ]
  },
  {
   "cell_type": "code",
   "execution_count": 86,
   "metadata": {},
   "outputs": [
    {
     "name": "stdout",
     "output_type": "stream",
     "text": [
      "Mean of Kulakov et al. (2013) VGPs: \n",
      "\n",
      "Plon: 192.9  Plat: 23.9\n",
      "Number of directions in mean (n): 21\n",
      "Angular radius of 95% confidence (A_95): 3.3\n",
      "Precision parameter (k) estimate: 95.3\n"
     ]
    }
   ],
   "source": [
    "Kulakov2013a_LST_Sites = pd.read_csv('../data/pmag_compiled/Kulakov2013/sites.txt',sep='\\t',header=1)\n",
    "LST_Kulakov_VGPs=ipmag.make_di_block(Kulakov2013a_LST_Sites['vgp_lon'],\n",
    "                                     Kulakov2013a_LST_Sites['vgp_lat'])\n",
    "LST_Kulakov_mean=pmag.fisher_mean(LST_Kulakov_VGPs)\n",
    "print('Mean of Kulakov et al. (2013) VGPs: \\n')\n",
    "ipmag.print_pole_mean(LST_Kulakov_mean)"
   ]
  },
  {
   "cell_type": "markdown",
   "metadata": {},
   "source": [
    "Kulakov et al. (2013) reported data for the flow LST28 that supersedes the Diehl direction which should accordingly be dropped in order to calculate a combined mean."
   ]
  },
  {
   "cell_type": "code",
   "execution_count": 87,
   "metadata": {},
   "outputs": [
    {
     "name": "stdout",
     "output_type": "stream",
     "text": [
      "\n",
      "Combined Diehl and Haig (1994) + Kulakov et al. (2013) mean: \n",
      "\n",
      "Plon: 185.7  Plat: 23.1\n",
      "Number of directions in mean (n): 50\n",
      "Angular radius of 95% confidence (A_95): 3.3\n",
      "Precision parameter (k) estimate: 38.8\n"
     ]
    }
   ],
   "source": [
    "Diehl1994a_sites_filtered = Diehl1994a_sites.drop(17)\n",
    "Diehl1994a_sites_filtered.reset_index(inplace=True)\n",
    "\n",
    "LST_Diehl_VGPs_pruned=ipmag.make_di_block(Diehl1994a_sites_filtered['vgp_lon'],\n",
    "                                   Diehl1994a_sites_filtered['vgp_lat'])\n",
    "\n",
    "LST_VGPs=np.concatenate((LST_Diehl_VGPs_pruned,LST_Kulakov_VGPs))\n",
    "\n",
    "LST_all_mean=pmag.fisher_mean(LST_VGPs)\n",
    "\n",
    "print('\\nCombined Diehl and Haig (1994) + Kulakov et al. (2013) mean: \\n')\n",
    "ipmag.print_pole_mean(LST_all_mean)"
   ]
  },
  {
   "cell_type": "code",
   "execution_count": 88,
   "metadata": {},
   "outputs": [],
   "source": [
    "pole_means.loc['LST'] = pd.Series({'PoleName' : 'Lake Shore Traps',\n",
    "                                        'SLat' : round(Diehl1994a_sites.lat.tolist()[0],2),\n",
    "                                        'SLon' : 360+round(Diehl1994a_sites.lon.tolist()[0],2),\n",
    "                                        'PLat' : round(LST_Diehl_mean['inc'],1),\n",
    "                                        'PLon' : round(LST_Diehl_mean['dec'],1),\n",
    "                                        'A95' : round(LST_Diehl_mean['alpha95'],1),\n",
    "                                        'K' : round(LST_Diehl_mean['k'],1),\n",
    "                                        'N' : int(LST_Diehl_mean['n']),\n",
    "                                        'PolarityZone' : 'Portage Lake normal-polarity zone',\n",
    "                                        'PmagRef' : 'Diehl and Haig, 1994',\n",
    "                                        'AgeNominal' : 1085.47,\n",
    "                                        'AgeLower' : 1084,\n",
    "                                        'AgeUpper' : 1091,\n",
    "                                        'AgeInfo' : 'Younger than Greenstone Flow, $^{\\mathrm{206}}$Pb/$^{\\mathrm{238}}$U date on Lake Shore Trap andesitic flow of 1085.47 $\\pm$ 0.32 Ma',\n",
    "                                        'AgeRef' : 'Fairchild et al., 2017; this study',\n",
    "                                        'GaussianOrUniform' : 'uniform',\n",
    "                                        'Q' : '6',\n",
    "                                        'color' : '#76C1C3'})"
   ]
  },
  {
   "cell_type": "markdown",
   "metadata": {},
   "source": [
    "## Powder Mill Group Volcanics\n",
    "\n",
    "Sites 11 and 12 are from the Portage Lake Volcanics. Sites 42, 43 and 44 are in rocks where the is pervasive development of amphibole development and partial obliteration of original igneous texture.\n",
    "\n",
    "Palmer and Halls split their data into three main structural panels: (1) steep dips, ENE strike,(2) steep dips, E to ENE strike and,(3) moderate to shallow dips, east strike. They argue that the 3rd panel is the best constrained and provides the most reliable pole position. This panel is comprised of sites 15-24. \n",
    "\n",
    "> In view of the uncertainty in structural correction to be applied to those sections of the Powder Mill volcanics that are close to the basement ridge,the most reliable estimate of the Powder Mill pole may be that from segment 3, although a relatively small stratigraphic interval has been sampled,thus increasing the risk that secular variation has not been averaged out.\n",
    "\n",
    "As shown in the common mean test below, the data from panel 3 and the data from panels 1 and 2 are consistent with sharing a common mean. This result weakens the conclusion of Palmer and Halls (1986) that the data from panels 1 and 2 are more unreliable due to the need to structurally correct a steep panel. However, an additional benefit of calculating a pole solely based on the data from panel 3 is that all of the flows are within the Siemens Creek Volcanics rather than spanning both those volcanics and the Kallander Creek Volcanics. Therefore, we use this subset in the pole compilation.\n",
    "\n",
    "Note that in this compilation, we do not include the combined site of 1-3 as the samples were collected from multiple lava flows. This combined site is not in panel 3."
   ]
  },
  {
   "cell_type": "code",
   "execution_count": 89,
   "metadata": {},
   "outputs": [],
   "source": [
    "Palmer1986 = pd.read_csv('../data/pmag_compiled/Palmer1986/Palmer1986_site.csv',sep=',')\n",
    "Palmer1986_PM = Palmer1986[Palmer1986['site'] != 11]\n",
    "Palmer1986_PM = Palmer1986_PM[Palmer1986_PM['site'] != 12]\n",
    "Palmer1986_PM = Palmer1986_PM[Palmer1986_PM['site'] != 42]\n",
    "Palmer1986_PM = Palmer1986_PM[Palmer1986_PM['site'] != 43]\n",
    "Palmer1986_PM = Palmer1986_PM[Palmer1986_PM['site'] != 44]\n",
    "\n",
    "third_panel_sites = [15,16,17,18,19,20,21,22,23,24]\n",
    "other_sites = [4,6,7,8,9,10,13,14,25,28,29,30,31,33,34,35,36,37,38,39,40,41]\n",
    "Palmer1986_PM_reliable = Palmer1986_PM.loc[Palmer1986_PM['site'].isin(third_panel_sites)]\n",
    "Palmer1986_PM_unreliable = Palmer1986_PM.loc[Palmer1986_PM['site'].isin(other_sites)]"
   ]
  },
  {
   "cell_type": "code",
   "execution_count": 90,
   "metadata": {},
   "outputs": [
    {
     "name": "stdout",
     "output_type": "stream",
     "text": [
      "Plon: 217.0  Plat: 38.5\n",
      "Number of directions in mean (n): 32\n",
      "Angular radius of 95% confidence (A_95): 5.6\n",
      "Precision parameter (k) estimate: 21.4\n"
     ]
    }
   ],
   "source": [
    "Powder_Mill_VGPs = ipmag.make_di_block(Palmer1986_PM['vgp_lon'].tolist(),\n",
    "                                   Palmer1986_PM['vgp_lat'].tolist())\n",
    "Powder_Mill_Pole = ipmag.fisher_mean(di_block=Powder_Mill_VGPs)\n",
    "ipmag.print_pole_mean(Powder_Mill_Pole)"
   ]
  },
  {
   "cell_type": "code",
   "execution_count": 91,
   "metadata": {},
   "outputs": [
    {
     "name": "stdout",
     "output_type": "stream",
     "text": [
      "Plon: 214.0  Plat: 45.8\n",
      "Number of directions in mean (n): 10\n",
      "Angular radius of 95% confidence (A_95): 9.2\n",
      "Precision parameter (k) estimate: 28.3\n"
     ]
    }
   ],
   "source": [
    "Powder_Mill_VGPs_reliable = ipmag.make_di_block(Palmer1986_PM_reliable['vgp_lon'].tolist(),\n",
    "                                   Palmer1986_PM_reliable['vgp_lat'].tolist())\n",
    "Powder_Mill_Pole_reliable = ipmag.fisher_mean(di_block=Powder_Mill_VGPs_reliable)\n",
    "ipmag.print_pole_mean(Powder_Mill_Pole_reliable)"
   ]
  },
  {
   "cell_type": "code",
   "execution_count": 92,
   "metadata": {},
   "outputs": [
    {
     "name": "stdout",
     "output_type": "stream",
     "text": [
      "Plon: 218.2  Plat: 35.1\n",
      "Number of directions in mean (n): 22\n",
      "Angular radius of 95% confidence (A_95): 7.0\n",
      "Precision parameter (k) estimate: 20.8\n"
     ]
    }
   ],
   "source": [
    "Powder_Mill_VGPs_unreliable = ipmag.make_di_block(Palmer1986_PM_unreliable['vgp_lon'].tolist(),\n",
    "                                   Palmer1986_PM_unreliable['vgp_lat'].tolist())\n",
    "Powder_Mill_Pole_unreliable = ipmag.fisher_mean(di_block=Powder_Mill_VGPs_unreliable)\n",
    "ipmag.print_pole_mean(Powder_Mill_Pole_unreliable)"
   ]
  },
  {
   "cell_type": "code",
   "execution_count": 93,
   "metadata": {},
   "outputs": [
    {
     "name": "stdout",
     "output_type": "stream",
     "text": [
      "Pass\n"
     ]
    },
    {
     "data": {
      "text/plain": [
       "1"
      ]
     },
     "execution_count": 93,
     "metadata": {},
     "output_type": "execute_result"
    }
   ],
   "source": [
    "ipmag.common_mean_bootstrap(Powder_Mill_VGPs_unreliable,Powder_Mill_VGPs_reliable)"
   ]
  },
  {
   "cell_type": "code",
   "execution_count": 94,
   "metadata": {},
   "outputs": [],
   "source": [
    "pole_means.loc['PM'] = pd.Series({'PoleName' : 'Siemens Creek Volcanics',\n",
    "                                        'SLat' : 46.5,\n",
    "                                        'SLon' : 360-90.2,\n",
    "                                        'PLat' : round(Powder_Mill_Pole_reliable['inc'],1),\n",
    "                                        'PLon' : round(Powder_Mill_Pole_reliable['dec'],1),\n",
    "                                        'A95' : round(Powder_Mill_Pole_reliable['alpha95'],1),\n",
    "                                        'K' : round(Powder_Mill_Pole_reliable['k'],1),\n",
    "                                        'N' : int(Powder_Mill_Pole_reliable['n']),\n",
    "                                        'PolarityZone' : 'Alona Bay reversed-polarity zone',\n",
    "                                        'PmagRef' : 'Palmer and Halls, 1986',\n",
    "                                        'AgeNominal' : 1108,\n",
    "                                        'AgeLower' : 1105,\n",
    "                                        'AgeUpper' : 1111,\n",
    "                                        'AgeInfo' : 'Older than the $^{\\mathrm{207}}$Pb/$^{\\mathrm{206}}$Pb date of 1107.3 $\\pm$ 1.6 Ma from a rhyolite in the Kallander Creek Volcanics',\n",
    "                                        'AgeRef' : 'Davis and Green, 1997',\n",
    "                                        'GaussianOrUniform' : 'uniform',\n",
    "                                        'Q' : '6',\n",
    "                                        'color' : '#CD4F45'})"
   ]
  },
  {
   "cell_type": "markdown",
   "metadata": {},
   "source": [
    "## Michopicoten Island\n",
    "\n",
    "The geology of Michipicoten Island can be divided into three distinct magmatic intervals:\n",
    "\n",
    "- the basal interval consists primarily of sub-ophitic to ophitic olivine tholeiitic basalt flows (correlated by Annells [1974] to the main stage volcanics of the Mamainse Point Formation)\n",
    "- hypabyssal quartz porphyry, granophyre, and intermediate intrusions  emplaced into the Quebec Mine Member basalt flows \n",
    "- Michipicoten Island Formation which unconformably overlies the intrusions and comprises: conglomerate/agglomerate deposits, thick intermediate to felsic flows, and tholeiitic basalt flows\n",
    "\n",
    "Fairchild et al. (2017) presented new CA-ID-TIMS $^{\\mathrm{206}}$Pb/$^{\\mathrm{238}}$U zircon dates from a Michipicoten Island Formation tuff (1084.35 ± 0.20 Ma) and rhyolite (1083.52 ± 0.23 Ma) along with new paleomagnetic data from intervening flows which are bracketed by these dates. \n",
    "\n",
    "Palmer and Davis (1987) dated a quartz-feldspar porphyry intrusion with a reported Concordia intercept U-Pb zircon date for the porphyry of 1086.5 + 1.3/- 3.0 Ma. With the interpretation of the dated unit having intruded prior to the eruption of the flows of the Michipicoten Island Formation, the Michipicoten Island Formation pole is the youngest pole from a volcanic unit in the Midcontinent Rift."
   ]
  },
  {
   "cell_type": "markdown",
   "metadata": {},
   "source": [
    "### Import Palmer and Davis (1997) data\n",
    "\n",
    "https://earthref.org/MagIC/13470"
   ]
  },
  {
   "cell_type": "code",
   "execution_count": 95,
   "metadata": {},
   "outputs": [],
   "source": [
    "%%capture\n",
    "ipmag.download_magic('Palmer1987a.v24.txt',\n",
    "                     dir_path='../data/pmag_compiled/Palmer1987',\n",
    "                     input_dir_path='../data/pmag_compiled/Palmer1987',\n",
    "                     overwrite=True,print_progress=False)"
   ]
  },
  {
   "cell_type": "markdown",
   "metadata": {},
   "source": [
    "### lower Michipicoten Island Quebec Mine Member basalts\n",
    "\n",
    "Palmer and Davis (1987) developed data from 8 sites with the sub-ophitic to ophitic olivine tholeiitic basalt flows of the Quebec Mine Member stratigraphically below the Michipicoten Island intrusions that Annells interpreted to correlate to the Mamainse Point Formation. They also report data from a site \"KM\" for which samples came from multiple flows and will not be included here as it does not met the definition of a site as a single cooling unit. "
   ]
  },
  {
   "cell_type": "code",
   "execution_count": 96,
   "metadata": {},
   "outputs": [],
   "source": [
    "Palmer1987_results = pd.read_csv('../data/pmag_compiled/Palmer1987/pmag_results.txt',sep='\\t',skiprows=1)\n",
    "Palmer1987_QM = Palmer1987_results[Palmer1987_results.er_location_names=='Mamainse Point Formation, Michipicoten Island']\n",
    "Palmer1987_QM_sites = Palmer1987_QM[Palmer1987_QM.data_type=='i']\n",
    "Palmer1987_QM_sites = Palmer1987_QM_sites[Palmer1987_QM_sites.er_site_names!='KM']"
   ]
  },
  {
   "cell_type": "markdown",
   "metadata": {},
   "source": [
    "Site 18 appears to be an outlier and perhaps should be removed from the the calculation of the mean."
   ]
  },
  {
   "cell_type": "code",
   "execution_count": 98,
   "metadata": {},
   "outputs": [],
   "source": [
    "Palmer1987_QM_sites = Palmer1987_QM_sites[Palmer1987_QM_sites.er_site_names!='18']"
   ]
  },
  {
   "cell_type": "code",
   "execution_count": 99,
   "metadata": {},
   "outputs": [],
   "source": [
    "Palmer1987_QM_sites = Palmer1987_QM_sites[Palmer1987_QM_sites.er_site_names!='KM']"
   ]
  },
  {
   "cell_type": "code",
   "execution_count": 100,
   "metadata": {},
   "outputs": [
    {
     "name": "stdout",
     "output_type": "stream",
     "text": [
      "Plon: 185.6  Plat: 36.9\n",
      "Number of directions in mean (n): 7\n",
      "Angular radius of 95% confidence (A_95): 13.4\n",
      "Precision parameter (k) estimate: 21.2\n"
     ]
    }
   ],
   "source": [
    "MI_QM_VGPs = ipmag.make_di_block(Palmer1987_QM_sites.vgp_lon.tolist(),\n",
    "                                 Palmer1987_QM_sites.vgp_lat.tolist())\n",
    "MI_QM_mean=pmag.fisher_mean(MI_QM_VGPs)\n",
    "ipmag.print_pole_mean(MI_QM_mean)"
   ]
  },
  {
   "cell_type": "markdown",
   "metadata": {},
   "source": [
    "### Import Fairchild et al. (2017)"
   ]
  },
  {
   "cell_type": "markdown",
   "metadata": {},
   "source": [
    "We have imported data from Fairchild et al. (2017) from the MagIC contribution in the Fairchild2017_results dataframe. Filtering this dataframe by location, component and tilt correction gets the results needed for the pole."
   ]
  },
  {
   "cell_type": "code",
   "execution_count": 101,
   "metadata": {},
   "outputs": [],
   "source": [
    "Fairchild2017_MIF = pd.read_csv('../data/pmag_compiled/Fairchild2017/pmag_results_Michipicoten.txt',sep='\\t',header=1)\n",
    "Fairchild2017_MIF = Fairchild2017_MIF[Fairchild2017_MIF['pole_comp_name'] == 'HT']\n",
    "Fairchild2017_MIF = Fairchild2017_MIF[Fairchild2017_MIF['tilt_correction'] == 100.0]\n",
    "Fairchild2017_MIF = Fairchild2017_MIF[Fairchild2017_MIF['er_site_names'] != 'CM1']\n",
    "Fairchild2017_MIF = Fairchild2017_MIF[Fairchild2017_MIF['er_site_names'] != 'CM2']"
   ]
  },
  {
   "cell_type": "code",
   "execution_count": 102,
   "metadata": {},
   "outputs": [
    {
     "name": "stdout",
     "output_type": "stream",
     "text": [
      "Plon: 174.7  Plat: 17.0\n",
      "Number of directions in mean (n): 23\n",
      "Angular radius of 95% confidence (A_95): 4.4\n",
      "Precision parameter (k) estimate: 48.2\n"
     ]
    }
   ],
   "source": [
    "Quebec_Harbour_Member_Palmer87 = [171.701143, 40.970516] \n",
    "Davieaux_Island_Member_Palmer87 = [178.210301, 18.732965]\n",
    "\n",
    "combined_MIF_lon = Fairchild2017_MIF['vgp_lon'].tolist()\n",
    "combined_MIF_lon.append(Quebec_Harbour_Member_Palmer87[0])\n",
    "combined_MIF_lon.append(Davieaux_Island_Member_Palmer87[0])\n",
    "\n",
    "combined_MIF_lat = Fairchild2017_MIF['vgp_lat'].tolist()\n",
    "combined_MIF_lat.append(Quebec_Harbour_Member_Palmer87[1])\n",
    "combined_MIF_lat.append(Davieaux_Island_Member_Palmer87[1])\n",
    "\n",
    "MIF_pole = ipmag.fisher_mean(combined_MIF_lon,combined_MIF_lat)\n",
    "ipmag.print_pole_mean(MIF_pole)"
   ]
  },
  {
   "cell_type": "code",
   "execution_count": 103,
   "metadata": {},
   "outputs": [],
   "source": [
    "pole_means.loc['QM'] = pd.Series({'PoleName' : 'Quebec Mine Member (Michipicoten Island)',\n",
    "                                        'SLat' : 47.80,\n",
    "                                        'SLon' : 274.25,\n",
    "                                        'PLat' : round(MI_QM_mean['inc'],1),\n",
    "                                        'PLon' : round(MI_QM_mean['dec'],1),\n",
    "                                        'A95' : round(MI_QM_mean['alpha95'],1),\n",
    "                                        'K' : round(MI_QM_mean['k'],1),\n",
    "                                        'N' : int(MI_QM_mean['n']),\n",
    "                                        'PolarityZone' : 'Portage Lake normal-polarity zone',\n",
    "                                        'PmagRef' : 'Palmer and Davis, 1987',\n",
    "                                        'AgeNominal' : 1095,\n",
    "                                        'AgeLower' : 1086.5,\n",
    "                                        'AgeUpper' : 1100,\n",
    "                                        'AgeInfo' : 'Older than ca. 1086.5 Ma $^{\\mathrm{207}}$Pb/$^{\\mathrm{206}}$Pb date on Michipicoten intrusive porphyry',\n",
    "                                        'AgeRef' : 'Palmer and Davis, 1987',\n",
    "                                        'GaussianOrUniform' : 'uniform',\n",
    "                                        'Q' : '5',\n",
    "                                        'color' : '#385C6A'})\n",
    "\n",
    "pole_means.loc['MI'] = pd.Series({'PoleName' : 'Michipicoten Island Formation',\n",
    "                                        'SLat' : 47.70,\n",
    "                                        'SLon' : 360-85.85,\n",
    "                                        'PLat' : round(MIF_pole['inc'],1),\n",
    "                                        'PLon' : round(MIF_pole['dec'],1),\n",
    "                                        'A95' : round(MIF_pole['alpha95'],1),\n",
    "                                        'K' : round(MIF_pole['k'],1),\n",
    "                                        'N' : MIF_pole['n'],\n",
    "                                        'PolarityZone' : 'Portage Lake normal-polarity zone',\n",
    "                                        'PmagRef' : 'Palmer and Davis, 1987); Fairchild et al., 2017',\n",
    "                                        'AgeNominal' : round(((1084.39+1083.52)/2),2),\n",
    "                                        'AgeLower' : 1083.52,\n",
    "                                        'AgeUpper' : 1084.39,\n",
    "                                        'AgeInfo' : '$^{\\mathrm{206}}$Pb/$^{\\mathrm{238}}$U dates on the West Sand Bay tuff 1084.39 $\\pm$ 0.21 Ma and the Davieux Island Rhyolite 1083.52 $\\pm$ 0.23 Ma bracket the VGPs',\n",
    "                                        'AgeRef' : 'Fairchild et al., 2017',\n",
    "                                        'GaussianOrUniform' : 'gaussian',\n",
    "                                        'Gaussian_2sigma' : round(((1084.39-1083.52)/2),2),\n",
    "                                        'Q' : '6',\n",
    "                                        'color' : '#9FD6BD'})"
   ]
  },
  {
   "cell_type": "markdown",
   "metadata": {},
   "source": [
    "## Midcontinent Rift sedimentary poles\n",
    "\n",
    "Sedimentary poles are taken as the site mean poles of Henry et al., 1977."
   ]
  },
  {
   "cell_type": "code",
   "execution_count": 5,
   "metadata": {},
   "outputs": [],
   "source": [
    "Nonesuch_pole = pmag.dia_vgp(276.8,ipmag.unsquish(8.1, 0.6),7.8,46.7,-89.9)\n",
    "Nonesuch_A95 = np.sqrt(Nonesuch_pole[2]*Nonesuch_pole[3])\n",
    "\n",
    "Freda_pole = pmag.dia_vgp(272.4,ipmag.unsquish(1.5, 0.6),5.9,46.7,-89.9)\n",
    "Freda_A95 = np.sqrt(Freda_pole[2]*Freda_pole[3])"
   ]
  },
  {
   "cell_type": "code",
   "execution_count": 11,
   "metadata": {},
   "outputs": [
    {
     "data": {
      "text/plain": [
       "(array([179.8,   9.6,   4.1,   8. ]), 5.7)"
      ]
     },
     "execution_count": 11,
     "metadata": {},
     "output_type": "execute_result"
    }
   ],
   "source": [
    "np.round(Nonesuch_pole,1), round(Nonesuch_A95,1)"
   ]
  },
  {
   "cell_type": "code",
   "execution_count": 12,
   "metadata": {},
   "outputs": [
    {
     "data": {
      "text/plain": [
       "(array([179.,   3.,   3.,   6.]), 4.2)"
      ]
     },
     "execution_count": 12,
     "metadata": {},
     "output_type": "execute_result"
    }
   ],
   "source": [
    "np.round(Freda_pole), round(Freda_A95,1)"
   ]
  },
  {
   "cell_type": "code",
   "execution_count": null,
   "metadata": {},
   "outputs": [],
   "source": [
    "pole_means.loc['Nonesuch'] = pd.Series({'PoleName' : 'Nonesuch Formation',\n",
    "                                        'SLat' : 46.7,\n",
    "                                        'SLon' : 360-89.9,\n",
    "                                        'PLat' : 7.6,\n",
    "                                        'PLon' : 178.1,\n",
    "                                        'A95' : round(Nonesuch_A95,1),\n",
    "                                        'N' : 11,\n",
    "                                        'PolarityZone' : 'Portage Lake normal-polarity zone (sed)',\n",
    "                                        'PmagRef' : 'Henry et al., 1977',\n",
    "                                        'AgeNominal' : 1080,\n",
    "                                        'AgeLower' : 1070,\n",
    "                                        'AgeUpper' : 1083.5,\n",
    "                                        'AgeInfo' : 'Likely younger than Michipicoten Island Formation. Deposited prior to eruption of Bear Lake Volcanics in lower Freda Sandstone',\n",
    "                                        'AgeRef' : '',\n",
    "                                        'GaussianOrUniform' : 'uniform',\n",
    "                                        'Q' : '',\n",
    "                                        'color' : '#B3D566'})"
   ]
  },
  {
   "cell_type": "code",
   "execution_count": null,
   "metadata": {},
   "outputs": [],
   "source": [
    "pole_means.loc['Freda'] = pd.Series({'PoleName' : 'Freda Formation',\n",
    "                                        'SLat' : 46.7,\n",
    "                                        'SLon' : 360-89.9,\n",
    "                                        'PLat' : 2.2,\n",
    "                                        'PLon' : 179.0,\n",
    "                                        'A95' : round(Freda_A95,1),\n",
    "                                        'N' : 20,\n",
    "                                        'PolarityZone' : 'Portage Lake normal-polarity zone (sed)',\n",
    "                                        'PmagRef' : 'Henry et al., 1977',\n",
    "                                        'AgeNominal' : 1070,\n",
    "                                        'AgeLower' : 1060,\n",
    "                                        'AgeUpper' : 1083.5,\n",
    "                                        'AgeInfo' : 'Data come from lowermost Freda Formation. Interbedded Bear Lake Volcanics suggest that not too much younger than youngest rift volcanism',\n",
    "                                        'GaussianOrUniform' : 'uniform',\n",
    "                                        'Q' : '',\n",
    "                                        'color' : '#D5C888'})"
   ]
  },
  {
   "cell_type": "code",
   "execution_count": null,
   "metadata": {},
   "outputs": [],
   "source": [
    "pole_means"
   ]
  },
  {
   "cell_type": "markdown",
   "metadata": {},
   "source": [
    "## Mean APWP"
   ]
  },
  {
   "cell_type": "code",
   "execution_count": null,
   "metadata": {},
   "outputs": [],
   "source": [
    "#Drop the two poles with less than 10 VGPs\n",
    "pole_means_filtered = pole_means.drop('Osler_N')\n",
    "pole_means_filtered = pole_means_filtered.drop('QM')"
   ]
  },
  {
   "cell_type": "code",
   "execution_count": null,
   "metadata": {},
   "outputs": [],
   "source": [
    "#pole_means.to_csv('pole_means.csv')\n",
    "#pole_means_filtered.to_csv('pole_means_filtered.csv')"
   ]
  },
  {
   "cell_type": "code",
   "execution_count": null,
   "metadata": {},
   "outputs": [],
   "source": [
    "def running_mean_APWP(data,window_length,spacing,max_age,min_age,fig_name=None):\n",
    "    mean_pole_ages = np.arange(min_age,max_age+spacing,spacing)\n",
    "    running_means = pd.DataFrame(columns=['age','N','A95','PLon','PLat'])\n",
    "    for age in mean_pole_ages:\n",
    "        window_min = age - (window_length/2)\n",
    "        window_max = age + (window_length/2)\n",
    "        poles = pole_means.loc[(data['AgeNominal'] >= window_min) & (data['AgeNominal'] <= window_max)]\n",
    "        mean = ipmag.fisher_mean(dec=poles['PLon'].tolist(),inc=poles['PLat'].tolist())\n",
    "        running_means.loc[age] = [age,mean['n'],mean['alpha95'],mean['dec'],mean['inc']]\n",
    "        \n",
    "    m = Basemap(projection='ortho',lat_0=35,lon_0=200,resolution='c',area_thresh=50000)\n",
    "    pole_figure_appearance()\n",
    "    for n in range(0,len(running_means['PLon'].tolist())):\n",
    "        ipmag.plot_pole(m,running_means['PLon'].tolist()[n],\n",
    "                        running_means['PLat'].tolist()[n],\n",
    "                        running_means['A95'].tolist()[n],\n",
    "                        marker='o',color='black')\n",
    "    if fig_name != None:\n",
    "        plt.savefig('./Plots/'+fig_name+'.svg')\n",
    "    \n",
    "    return running_means"
   ]
  },
  {
   "cell_type": "code",
   "execution_count": null,
   "metadata": {},
   "outputs": [],
   "source": [
    "RM_20_10_1110_1070 = running_mean_APWP(pole_means,20,10,1110,1070)\n",
    "RM_20_10_1110_1070"
   ]
  },
  {
   "cell_type": "code",
   "execution_count": null,
   "metadata": {},
   "outputs": [],
   "source": [
    "#RM_20_10_1115_1075 = running_mean_APWP(pole_means,20,10,1115,1075,fig_name='running_mean')\n",
    "RM_20_10_1115_1075 = running_mean_APWP(pole_means,20,10,1115,1075)\n",
    "RM_20_10_1115_1075"
   ]
  },
  {
   "cell_type": "code",
   "execution_count": null,
   "metadata": {},
   "outputs": [],
   "source": [
    "RM_15_10_1115_1075 = running_mean_APWP(pole_means,15,10,1115,1075)\n",
    "RM_15_10_1115_1075"
   ]
  }
 ],
 "metadata": {
  "anaconda-cloud": {},
  "kernelspec": {
   "display_name": "Python 3",
   "language": "python",
   "name": "python3"
  },
  "language_info": {
   "codemirror_mode": {
    "name": "ipython",
    "version": 3
   },
   "file_extension": ".py",
   "mimetype": "text/x-python",
   "name": "python",
   "nbconvert_exporter": "python",
   "pygments_lexer": "ipython3",
   "version": "3.9.13"
  },
  "nav_menu": {},
  "toc": {
   "navigate_menu": true,
   "number_sections": false,
   "sideBar": true,
   "threshold": 6,
   "toc_cell": false,
   "toc_section_display": "block",
   "toc_window_display": true
  },
  "toc_position": {
   "height": "602px",
   "left": "0px",
   "right": "auto",
   "top": "106px",
   "width": "228px"
  }
 },
 "nbformat": 4,
 "nbformat_minor": 4
}
