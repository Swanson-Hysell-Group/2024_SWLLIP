{
 "cells": [
  {
   "attachments": {},
   "cell_type": "markdown",
   "metadata": {},
   "source": [
    "# Notebook for plotting SWLLIP geochornology data"
   ]
  },
  {
   "cell_type": "code",
   "execution_count": 7,
   "metadata": {},
   "outputs": [],
   "source": [
    "import numpy as np\n",
    "import matplotlib.pyplot as plt\n",
    "import matplotlib\n",
    "import pandas as pd\n",
    "\n",
    "%matplotlib inline"
   ]
  },
  {
   "attachments": {},
   "cell_type": "markdown",
   "metadata": {},
   "source": [
    "## Load data"
   ]
  },
  {
   "cell_type": "code",
   "execution_count": 39,
   "metadata": {},
   "outputs": [
    {
     "data": {
      "text/html": [
       "<div>\n",
       "<style scoped>\n",
       "    .dataframe tbody tr th:only-of-type {\n",
       "        vertical-align: middle;\n",
       "    }\n",
       "\n",
       "    .dataframe tbody tr th {\n",
       "        vertical-align: top;\n",
       "    }\n",
       "\n",
       "    .dataframe thead th {\n",
       "        text-align: right;\n",
       "    }\n",
       "</style>\n",
       "<table border=\"1\" class=\"dataframe\">\n",
       "  <thead>\n",
       "    <tr style=\"text-align: right;\">\n",
       "      <th></th>\n",
       "      <th>sample</th>\n",
       "      <th>location</th>\n",
       "      <th>description</th>\n",
       "      <th>latitude</th>\n",
       "      <th>longitude</th>\n",
       "      <th>206Pb/238U age (Ma)</th>\n",
       "      <th>2_sigma</th>\n",
       "      <th>MSWD</th>\n",
       "      <th>n</th>\n",
       "    </tr>\n",
       "  </thead>\n",
       "  <tbody>\n",
       "    <tr>\n",
       "      <th>0</th>\n",
       "      <td>MM21-R52-CB3Z</td>\n",
       "      <td>Grand Canyon rm. 52, N AZ</td>\n",
       "      <td>Collected from a pegmatoidal interior of a 57 ...</td>\n",
       "      <td>36.28344</td>\n",
       "      <td>-111.89260</td>\n",
       "      <td>1082.18</td>\n",
       "      <td>1.25</td>\n",
       "      <td>0.09</td>\n",
       "      <td>4</td>\n",
       "    </tr>\n",
       "    <tr>\n",
       "      <th>1</th>\n",
       "      <td>MM2021-CA1</td>\n",
       "      <td>Dead Mountains, SE CA</td>\n",
       "      <td>Collected from a felsic zone within subophitic...</td>\n",
       "      <td>35.08636</td>\n",
       "      <td>-114.75425</td>\n",
       "      <td>1082.60</td>\n",
       "      <td>0.30</td>\n",
       "      <td>1.53</td>\n",
       "      <td>8</td>\n",
       "    </tr>\n",
       "    <tr>\n",
       "      <th>2</th>\n",
       "      <td>F2020-5</td>\n",
       "      <td>Panamint Mountains, CA</td>\n",
       "      <td>Collected from a ~20 cm wide felsic segregatio...</td>\n",
       "      <td>35.96230</td>\n",
       "      <td>-116.90123</td>\n",
       "      <td>1097.91</td>\n",
       "      <td>0.29</td>\n",
       "      <td>0.79</td>\n",
       "      <td>8</td>\n",
       "    </tr>\n",
       "    <tr>\n",
       "      <th>3</th>\n",
       "      <td>JT19-AA-01</td>\n",
       "      <td>Salt River Canyon, central AZ</td>\n",
       "      <td>Collected from a ~10 cm wide portion of a subp...</td>\n",
       "      <td>33.80767</td>\n",
       "      <td>-110.47423</td>\n",
       "      <td>1097.97</td>\n",
       "      <td>0.12</td>\n",
       "      <td>1.54</td>\n",
       "      <td>13</td>\n",
       "    </tr>\n",
       "    <tr>\n",
       "      <th>4</th>\n",
       "      <td>CS-7-GEOCHRON</td>\n",
       "      <td>Ibex Range, SE CA</td>\n",
       "      <td>Collected from a ~5 cm thick coarse-grained fe...</td>\n",
       "      <td>35.81503</td>\n",
       "      <td>-116.38968</td>\n",
       "      <td>1098.09</td>\n",
       "      <td>0.91</td>\n",
       "      <td>1.57</td>\n",
       "      <td>4</td>\n",
       "    </tr>\n",
       "    <tr>\n",
       "      <th>5</th>\n",
       "      <td>K12-132L</td>\n",
       "      <td>Grand Canyon, rm. 132, N AZ</td>\n",
       "      <td>Collected from a 20 cm wide granophyre segrega...</td>\n",
       "      <td>36.35093</td>\n",
       "      <td>-112.45621</td>\n",
       "      <td>1098.09</td>\n",
       "      <td>0.34</td>\n",
       "      <td>1.53</td>\n",
       "      <td>9</td>\n",
       "    </tr>\n",
       "    <tr>\n",
       "      <th>6</th>\n",
       "      <td>MS17-107-01</td>\n",
       "      <td>Grand Canyon, rm. 107, N AZ</td>\n",
       "      <td>Collected from a 20 cm wide granophyre pod nea...</td>\n",
       "      <td>36.23335</td>\n",
       "      <td>-112.33145</td>\n",
       "      <td>1098.16</td>\n",
       "      <td>0.59</td>\n",
       "      <td>0.67</td>\n",
       "      <td>4</td>\n",
       "    </tr>\n",
       "    <tr>\n",
       "      <th>7</th>\n",
       "      <td>CS-4-GEOCHRON</td>\n",
       "      <td>Panamint Mountains, CA</td>\n",
       "      <td>Collected from a 5 cm thick medium-grained fel...</td>\n",
       "      <td>35.96244</td>\n",
       "      <td>-116.88572</td>\n",
       "      <td>1098.27</td>\n",
       "      <td>0.27</td>\n",
       "      <td>0.35</td>\n",
       "      <td>9</td>\n",
       "    </tr>\n",
       "  </tbody>\n",
       "</table>\n",
       "</div>"
      ],
      "text/plain": [
       "          sample                       location  \\\n",
       "0  MM21-R52-CB3Z      Grand Canyon rm. 52, N AZ   \n",
       "1     MM2021-CA1          Dead Mountains, SE CA   \n",
       "2        F2020-5         Panamint Mountains, CA   \n",
       "3     JT19-AA-01  Salt River Canyon, central AZ   \n",
       "4  CS-7-GEOCHRON              Ibex Range, SE CA   \n",
       "5       K12-132L    Grand Canyon, rm. 132, N AZ   \n",
       "6    MS17-107-01    Grand Canyon, rm. 107, N AZ   \n",
       "7  CS-4-GEOCHRON         Panamint Mountains, CA   \n",
       "\n",
       "                                         description  latitude  longitude  \\\n",
       "0  Collected from a pegmatoidal interior of a 57 ...  36.28344 -111.89260   \n",
       "1  Collected from a felsic zone within subophitic...  35.08636 -114.75425   \n",
       "2  Collected from a ~20 cm wide felsic segregatio...  35.96230 -116.90123   \n",
       "3  Collected from a ~10 cm wide portion of a subp...  33.80767 -110.47423   \n",
       "4  Collected from a ~5 cm thick coarse-grained fe...  35.81503 -116.38968   \n",
       "5  Collected from a 20 cm wide granophyre segrega...  36.35093 -112.45621   \n",
       "6  Collected from a 20 cm wide granophyre pod nea...  36.23335 -112.33145   \n",
       "7  Collected from a 5 cm thick medium-grained fel...  35.96244 -116.88572   \n",
       "\n",
       "   206Pb/238U age (Ma)  2_sigma  MSWD   n  \n",
       "0              1082.18     1.25  0.09   4  \n",
       "1              1082.60     0.30  1.53   8  \n",
       "2              1097.91     0.29  0.79   8  \n",
       "3              1097.97     0.12  1.54  13  \n",
       "4              1098.09     0.91  1.57   4  \n",
       "5              1098.09     0.34  1.53   9  \n",
       "6              1098.16     0.59  0.67   4  \n",
       "7              1098.27     0.27  0.35   9  "
      ]
     },
     "execution_count": 39,
     "metadata": {},
     "output_type": "execute_result"
    }
   ],
   "source": [
    "Mohr2023a_data = pd.read_csv('../data/geochron/Mohr2023_geochron.csv')\n",
    "Mohr2023a_data = Mohr2023a_data.sort_values(by=['206Pb/238U age (Ma)']).reset_index(drop=True)\n",
    "Mohr2023a_data"
   ]
  },
  {
   "attachments": {},
   "cell_type": "markdown",
   "metadata": {},
   "source": [
    "## plot the mean dates"
   ]
  },
  {
   "cell_type": "code",
   "execution_count": 68,
   "metadata": {},
   "outputs": [
    {
     "data": {
      "text/plain": [
       "Text(0, 0.5, '$^{206}$Pb/$^{238}$U date (Ma)')"
      ]
     },
     "execution_count": 68,
     "metadata": {},
     "output_type": "execute_result"
    },
    {
     "data": {
      "image/png": "[encoded data removed]",
      "text/plain": [
       "<Figure size 1000x600 with 1 Axes>"
      ]
     },
     "metadata": {},
     "output_type": "display_data"
    }
   ],
   "source": [
    "plt.figure(figsize=(10,6))\n",
    "sample_width = 1\n",
    "\n",
    "for i in range(len(Mohr2023a_data)):\n",
    "    current_x = i+1\n",
    "    this_mean_age = Mohr2023a_data['206Pb/238U age (Ma)'][i]\n",
    "    this_2_sigma = Mohr2023a_data['2_sigma'][i]\n",
    "    this_age_lower = this_mean_age - this_2_sigma\n",
    "    this_age_upper = this_mean_age + this_2_sigma\n",
    "    this_n = Mohr2023a_data['n'][i]\n",
    "\n",
    "\n",
    "    plt.gca().vlines(current_x, this_mean_age-this_2_sigma, this_mean_age+this_2_sigma, color='lightgrey', lw=8)\n",
    "\n",
    "    plt.gca().hlines(this_mean_age, xmin = current_x-.05, xmax = current_x+.05, color='k', lw=2)\n",
    "\n",
    "    # plt.axhline(this_mean_age, current_x-1, current_x+sample_width)\n",
    "\n",
    "plt.xlim(0, len(Mohr2023a_data)+1)\n",
    "plt.xticks([])\n",
    "plt.ylim(Mohr2023a_data['206Pb/238U age (Ma)'].min()-1.5, Mohr2023a_data['206Pb/238U age (Ma)'].max()+1)\n",
    "plt.gca().invert_yaxis()\n",
    "plt.ylabel('$^{206}$Pb/$^{238}$U date (Ma)',fontsize=13)"
   ]
  },
  {
   "cell_type": "code",
   "execution_count": null,
   "metadata": {},
   "outputs": [],
   "source": []
  },
  {
   "cell_type": "code",
   "execution_count": null,
   "metadata": {},
   "outputs": [],
   "source": []
  }
 ],
 "metadata": {
  "kernelspec": {
   "display_name": "base",
   "language": "python",
   "name": "python3"
  },
  "language_info": {
   "codemirror_mode": {
    "name": "ipython",
    "version": 3
   },
   "file_extension": ".py",
   "mimetype": "text/x-python",
   "name": "python",
   "nbconvert_exporter": "python",
   "pygments_lexer": "ipython3",
   "version": "3.9.13"
  },
  "orig_nbformat": 4
 },
 "nbformat": 4,
 "nbformat_minor": 2
}
